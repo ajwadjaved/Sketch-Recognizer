{
 "cells": [
  {
   "cell_type": "markdown",
   "metadata": {},
   "source": [
    "# Imports"
   ]
  },
  {
   "cell_type": "code",
   "execution_count": 1,
   "metadata": {},
   "outputs": [],
   "source": [
    "import tensorflow as tf\n",
    "from matplotlib import pyplot as plt\n",
    "from PIL import Image\n",
    "\n",
    "\n",
    "import os\n",
    "import cv2\n",
    "import random\n",
    "import pandas as pd\n",
    "import numpy as np\n",
    "from tensorflow.keras.preprocessing.image import img_to_array\n",
    "from imutils import paths"
   ]
  },
  {
   "cell_type": "markdown",
   "metadata": {},
   "source": [
    "# Importing and Preprocessing Data"
   ]
  },
  {
   "cell_type": "code",
   "execution_count": 2,
   "metadata": {},
   "outputs": [],
   "source": [
    "import gc\n",
    "\n",
    "image_height = 28\n",
    "image_width = 28\n",
    "channel = 1 #For RGB images, 1 for greyscale images\n",
    "input_imageShape = (image_height, image_width, channel) \n",
    "input_imageSize = (image_height, image_width)        \n",
    "\n",
    "def load_data(image_dir, csv_filename):\n",
    "    image_data = []\n",
    "    class_labels = []    \n",
    "    imagePaths = sorted(list(paths.list_images(image_dir)))             #To load images from the respective folder\n",
    "    df = pd.read_csv(csv_filename, header = None, index_col = False, engine=\"python\")  #To read class labels from .csv file\n",
    "    random.seed(42)                                                     #Seed value can be modified accordingly\n",
    "    random.shuffle(imagePaths)\n",
    "    print(\"[INFO] loading images and class labels...\")\n",
    "    for imagePath in imagePaths:\n",
    "        image = cv2.imread(imagePath)\n",
    "        image = cv2.resize(image, input_imageSize)    #Uncomment if required....\n",
    "        image = img_to_array(image)\n",
    "        image_data.append(image)    \n",
    "        fullname = os.path.basename(imagePath)        #Complete image name with extension e.g. \"1.png\" etc.\n",
    "        image_name = os.path.splitext(fullname)[0]    #Removing extension i.e. \"1\" etc.\n",
    "        image_name = image_name.split(\"(\")[0]\n",
    "        temp=df[df[0] == int(image_name)]             #Finding image name in respective .csv file\n",
    "        label = temp.iloc[0,1]                        #Finding respective class label \n",
    "        class_labels.append(label)\n",
    "    print(\"[INFO] Creating Numpy Arrays...\")\n",
    "    X = np.array(image_data, dtype=\"float32\")                        #Creating required Numpy array of images\n",
    "    Y = np.array(class_labels)                      #Creating required Numpy array of class labels\n",
    "    \n",
    "    # converting from 3 color channels to 1 channel\n",
    "    X = X[:,:,:,0]\n",
    "    X = X.reshape(X.shape+(1,))\n",
    "\n",
    "    # free memory explicitly\n",
    "    image_data = None\n",
    "    class_labels = None\n",
    "    gc.collect()\n",
    "    \n",
    "    return X, Y"
   ]
  },
  {
   "cell_type": "code",
   "execution_count": 3,
   "metadata": {},
   "outputs": [
    {
     "name": "stdout",
     "output_type": "stream",
     "text": [
      "[INFO] loading images and class labels...\n",
      "[INFO] Creating Numpy Arrays...\n",
      "[INFO] loading images and class labels...\n",
      "[INFO] Creating Numpy Arrays...\n"
     ]
    }
   ],
   "source": [
    "#some required values\n",
    "number_of_classes = 250\n",
    "\n",
    "# loading training data\n",
    "image_dir = r\"D:\\Codes\\Github\\Projects\\competitions\\Sketch-Recognizer\\Scripts\\Data\\Train\"\n",
    "csv_filename = r\"D:\\Codes\\Github\\Projects\\competitions\\Sketch-Recognizer\\Scripts\\Data\\Train.csv\"\n",
    "(x_train, y_train) = load_data(image_dir, csv_filename)\n",
    "\n",
    "# load the validation data\n",
    "val_image_dir = r\"D:\\Codes\\Github\\Projects\\competitions\\Sketch-Recognizer\\Scripts\\Data\\Validation\"\n",
    "val_csv_filename = r\"D:\\Codes\\Github\\Projects\\competitions\\Sketch-Recognizer\\Scripts\\Data\\Validation.csv\"\n",
    "(x_test, y_test) = load_data(val_image_dir, val_csv_filename)"
   ]
  },
  {
   "cell_type": "code",
   "execution_count": 4,
   "metadata": {},
   "outputs": [
    {
     "name": "stdout",
     "output_type": "stream",
     "text": [
      "x_train shape: (10004, 28, 28, 1)\n",
      "10004 train samples\n",
      "5000 test samples\n"
     ]
    }
   ],
   "source": [
    "# inspecting the shape\n",
    "print('x_train shape:', x_train.shape)\n",
    "print(x_train.shape[0], 'train samples')\n",
    "print(x_test.shape[0], 'test samples')"
   ]
  },
  {
   "cell_type": "code",
   "execution_count": 5,
   "metadata": {},
   "outputs": [],
   "source": [
    "# Normalise the data and convert to float32\n",
    "x_train = x_train.astype('float32')/255\n",
    "x_test = x_test.astype('float32')/255"
   ]
  },
  {
   "cell_type": "code",
   "execution_count": 6,
   "metadata": {},
   "outputs": [],
   "source": [
    "# expand dimenstion to (n, 1) for next step\n",
    "y_train = np.expand_dims(y_train, 1)\n",
    "y_test = np.expand_dims(y_test, 1)"
   ]
  },
  {
   "cell_type": "code",
   "execution_count": 7,
   "metadata": {},
   "outputs": [
    {
     "data": {
      "text/plain": [
       "34"
      ]
     },
     "execution_count": 7,
     "metadata": {},
     "output_type": "execute_result"
    }
   ],
   "source": [
    "# adding 4000 validation set examples to training set\n",
    "x_train = np.concatenate((x_train, x_test[1000:]))\n",
    "y_train = np.concatenate((y_train, y_test[1000:]))\n",
    "\n",
    "x_test = x_test[0:1000]\n",
    "y_test = y_test[0:1000]\n",
    "gc.collect()"
   ]
  },
  {
   "cell_type": "code",
   "execution_count": 8,
   "metadata": {},
   "outputs": [],
   "source": [
    "# Convert labels to one-hot vectors\n",
    "y_train = tf.one_hot(y_train, number_of_classes) # or use tf.one_hot()\n",
    "y_test = tf.one_hot(y_test, number_of_classes)"
   ]
  },
  {
   "cell_type": "code",
   "execution_count": 9,
   "metadata": {},
   "outputs": [],
   "source": [
    "# Removing extra dimension from one-hot vectors\n",
    "output_list = []\n",
    "\n",
    "for i in range(y_train.shape[0]):\n",
    "    output_list.append(y_train[i][0])\n",
    "\n",
    "y_train = tf.stack(output_list)\n",
    "\n",
    "output_list = []\n",
    "\n",
    "for i in range(y_test.shape[0]):\n",
    "    output_list.append(y_test[i][0])\n",
    "\n",
    "y_test = tf.stack(output_list)"
   ]
  },
  {
   "cell_type": "markdown",
   "metadata": {},
   "source": [
    "# Beginning  the Game with ResNet V2 "
   ]
  },
  {
   "cell_type": "markdown",
   "metadata": {},
   "source": [
    "- Model Definition\n",
    "- Data Augmentation Options\n",
    "- Model Training \n",
    "- Model Evaluation"
   ]
  },
  {
   "cell_type": "code",
   "execution_count": 12,
   "metadata": {},
   "outputs": [
    {
     "name": "stdout",
     "output_type": "stream",
     "text": [
      "x_train shape: (14004, 28, 28, 1)\n",
      "14004 train samples\n",
      "1000 test samples\n",
      "y_train shape: (14004, 250)\n",
      "Learning rate:  0.0001\n",
      "Model: \"model\"\n",
      "__________________________________________________________________________________________________\n",
      "Layer (type)                    Output Shape         Param #     Connected to                     \n",
      "==================================================================================================\n",
      "input_3 (InputLayer)            [(None, 28, 28, 1)]  0                                            \n",
      "__________________________________________________________________________________________________\n",
      "conv2d_62 (Conv2D)              (None, 28, 28, 16)   160         input_3[0][0]                    \n",
      "__________________________________________________________________________________________________\n",
      "batch_normalization_56 (BatchNo (None, 28, 28, 16)   64          conv2d_62[0][0]                  \n",
      "__________________________________________________________________________________________________\n",
      "activation_56 (Activation)      (None, 28, 28, 16)   0           batch_normalization_56[0][0]     \n",
      "__________________________________________________________________________________________________\n",
      "conv2d_63 (Conv2D)              (None, 28, 28, 16)   272         activation_56[0][0]              \n",
      "__________________________________________________________________________________________________\n",
      "batch_normalization_57 (BatchNo (None, 28, 28, 16)   64          conv2d_63[0][0]                  \n",
      "__________________________________________________________________________________________________\n",
      "activation_57 (Activation)      (None, 28, 28, 16)   0           batch_normalization_57[0][0]     \n",
      "__________________________________________________________________________________________________\n",
      "conv2d_64 (Conv2D)              (None, 28, 28, 16)   2320        activation_57[0][0]              \n",
      "__________________________________________________________________________________________________\n",
      "batch_normalization_58 (BatchNo (None, 28, 28, 16)   64          conv2d_64[0][0]                  \n",
      "__________________________________________________________________________________________________\n",
      "activation_58 (Activation)      (None, 28, 28, 16)   0           batch_normalization_58[0][0]     \n",
      "__________________________________________________________________________________________________\n",
      "conv2d_66 (Conv2D)              (None, 28, 28, 64)   1088        activation_56[0][0]              \n",
      "__________________________________________________________________________________________________\n",
      "conv2d_65 (Conv2D)              (None, 28, 28, 64)   1088        activation_58[0][0]              \n",
      "__________________________________________________________________________________________________\n",
      "add_18 (Add)                    (None, 28, 28, 64)   0           conv2d_66[0][0]                  \n",
      "                                                                 conv2d_65[0][0]                  \n",
      "__________________________________________________________________________________________________\n",
      "batch_normalization_59 (BatchNo (None, 28, 28, 64)   256         add_18[0][0]                     \n",
      "__________________________________________________________________________________________________\n",
      "activation_59 (Activation)      (None, 28, 28, 64)   0           batch_normalization_59[0][0]     \n",
      "__________________________________________________________________________________________________\n",
      "conv2d_67 (Conv2D)              (None, 28, 28, 16)   1040        activation_59[0][0]              \n",
      "__________________________________________________________________________________________________\n",
      "batch_normalization_60 (BatchNo (None, 28, 28, 16)   64          conv2d_67[0][0]                  \n",
      "__________________________________________________________________________________________________\n",
      "activation_60 (Activation)      (None, 28, 28, 16)   0           batch_normalization_60[0][0]     \n",
      "__________________________________________________________________________________________________\n",
      "conv2d_68 (Conv2D)              (None, 28, 28, 16)   2320        activation_60[0][0]              \n",
      "__________________________________________________________________________________________________\n",
      "batch_normalization_61 (BatchNo (None, 28, 28, 16)   64          conv2d_68[0][0]                  \n",
      "__________________________________________________________________________________________________\n",
      "activation_61 (Activation)      (None, 28, 28, 16)   0           batch_normalization_61[0][0]     \n",
      "__________________________________________________________________________________________________\n",
      "conv2d_69 (Conv2D)              (None, 28, 28, 64)   1088        activation_61[0][0]              \n",
      "__________________________________________________________________________________________________\n",
      "add_19 (Add)                    (None, 28, 28, 64)   0           add_18[0][0]                     \n",
      "                                                                 conv2d_69[0][0]                  \n",
      "__________________________________________________________________________________________________\n",
      "batch_normalization_62 (BatchNo (None, 28, 28, 64)   256         add_19[0][0]                     \n",
      "__________________________________________________________________________________________________\n",
      "activation_62 (Activation)      (None, 28, 28, 64)   0           batch_normalization_62[0][0]     \n",
      "__________________________________________________________________________________________________\n",
      "conv2d_70 (Conv2D)              (None, 28, 28, 16)   1040        activation_62[0][0]              \n",
      "__________________________________________________________________________________________________\n",
      "batch_normalization_63 (BatchNo (None, 28, 28, 16)   64          conv2d_70[0][0]                  \n",
      "__________________________________________________________________________________________________\n",
      "activation_63 (Activation)      (None, 28, 28, 16)   0           batch_normalization_63[0][0]     \n",
      "__________________________________________________________________________________________________\n",
      "conv2d_71 (Conv2D)              (None, 28, 28, 16)   2320        activation_63[0][0]              \n",
      "__________________________________________________________________________________________________\n",
      "batch_normalization_64 (BatchNo (None, 28, 28, 16)   64          conv2d_71[0][0]                  \n",
      "__________________________________________________________________________________________________\n",
      "activation_64 (Activation)      (None, 28, 28, 16)   0           batch_normalization_64[0][0]     \n",
      "__________________________________________________________________________________________________\n",
      "conv2d_72 (Conv2D)              (None, 28, 28, 64)   1088        activation_64[0][0]              \n",
      "__________________________________________________________________________________________________\n",
      "add_20 (Add)                    (None, 28, 28, 64)   0           add_19[0][0]                     \n",
      "                                                                 conv2d_72[0][0]                  \n",
      "__________________________________________________________________________________________________\n",
      "batch_normalization_65 (BatchNo (None, 28, 28, 64)   256         add_20[0][0]                     \n",
      "__________________________________________________________________________________________________\n",
      "activation_65 (Activation)      (None, 28, 28, 64)   0           batch_normalization_65[0][0]     \n",
      "__________________________________________________________________________________________________\n",
      "conv2d_73 (Conv2D)              (None, 14, 14, 64)   4160        activation_65[0][0]              \n",
      "__________________________________________________________________________________________________\n",
      "batch_normalization_66 (BatchNo (None, 14, 14, 64)   256         conv2d_73[0][0]                  \n",
      "__________________________________________________________________________________________________\n",
      "activation_66 (Activation)      (None, 14, 14, 64)   0           batch_normalization_66[0][0]     \n",
      "__________________________________________________________________________________________________\n",
      "conv2d_74 (Conv2D)              (None, 14, 14, 64)   36928       activation_66[0][0]              \n",
      "__________________________________________________________________________________________________\n",
      "batch_normalization_67 (BatchNo (None, 14, 14, 64)   256         conv2d_74[0][0]                  \n",
      "__________________________________________________________________________________________________\n",
      "activation_67 (Activation)      (None, 14, 14, 64)   0           batch_normalization_67[0][0]     \n",
      "__________________________________________________________________________________________________\n",
      "conv2d_76 (Conv2D)              (None, 14, 14, 128)  8320        add_20[0][0]                     \n",
      "__________________________________________________________________________________________________\n",
      "conv2d_75 (Conv2D)              (None, 14, 14, 128)  8320        activation_67[0][0]              \n",
      "__________________________________________________________________________________________________\n",
      "add_21 (Add)                    (None, 14, 14, 128)  0           conv2d_76[0][0]                  \n",
      "                                                                 conv2d_75[0][0]                  \n",
      "__________________________________________________________________________________________________\n",
      "batch_normalization_68 (BatchNo (None, 14, 14, 128)  512         add_21[0][0]                     \n",
      "__________________________________________________________________________________________________\n",
      "activation_68 (Activation)      (None, 14, 14, 128)  0           batch_normalization_68[0][0]     \n",
      "__________________________________________________________________________________________________\n",
      "conv2d_77 (Conv2D)              (None, 14, 14, 64)   8256        activation_68[0][0]              \n",
      "__________________________________________________________________________________________________\n",
      "batch_normalization_69 (BatchNo (None, 14, 14, 64)   256         conv2d_77[0][0]                  \n",
      "__________________________________________________________________________________________________\n",
      "activation_69 (Activation)      (None, 14, 14, 64)   0           batch_normalization_69[0][0]     \n",
      "__________________________________________________________________________________________________\n",
      "conv2d_78 (Conv2D)              (None, 14, 14, 64)   36928       activation_69[0][0]              \n",
      "__________________________________________________________________________________________________\n",
      "batch_normalization_70 (BatchNo (None, 14, 14, 64)   256         conv2d_78[0][0]                  \n",
      "__________________________________________________________________________________________________\n",
      "activation_70 (Activation)      (None, 14, 14, 64)   0           batch_normalization_70[0][0]     \n",
      "__________________________________________________________________________________________________\n",
      "conv2d_79 (Conv2D)              (None, 14, 14, 128)  8320        activation_70[0][0]              \n",
      "__________________________________________________________________________________________________\n",
      "add_22 (Add)                    (None, 14, 14, 128)  0           add_21[0][0]                     \n",
      "                                                                 conv2d_79[0][0]                  \n",
      "__________________________________________________________________________________________________\n",
      "batch_normalization_71 (BatchNo (None, 14, 14, 128)  512         add_22[0][0]                     \n",
      "__________________________________________________________________________________________________\n",
      "activation_71 (Activation)      (None, 14, 14, 128)  0           batch_normalization_71[0][0]     \n",
      "__________________________________________________________________________________________________\n",
      "conv2d_80 (Conv2D)              (None, 14, 14, 64)   8256        activation_71[0][0]              \n",
      "__________________________________________________________________________________________________\n",
      "batch_normalization_72 (BatchNo (None, 14, 14, 64)   256         conv2d_80[0][0]                  \n",
      "__________________________________________________________________________________________________\n",
      "activation_72 (Activation)      (None, 14, 14, 64)   0           batch_normalization_72[0][0]     \n",
      "__________________________________________________________________________________________________\n",
      "conv2d_81 (Conv2D)              (None, 14, 14, 64)   36928       activation_72[0][0]              \n",
      "__________________________________________________________________________________________________\n",
      "batch_normalization_73 (BatchNo (None, 14, 14, 64)   256         conv2d_81[0][0]                  \n",
      "__________________________________________________________________________________________________\n",
      "activation_73 (Activation)      (None, 14, 14, 64)   0           batch_normalization_73[0][0]     \n",
      "__________________________________________________________________________________________________\n",
      "conv2d_82 (Conv2D)              (None, 14, 14, 128)  8320        activation_73[0][0]              \n",
      "__________________________________________________________________________________________________\n",
      "add_23 (Add)                    (None, 14, 14, 128)  0           add_22[0][0]                     \n",
      "                                                                 conv2d_82[0][0]                  \n",
      "__________________________________________________________________________________________________\n",
      "batch_normalization_74 (BatchNo (None, 14, 14, 128)  512         add_23[0][0]                     \n",
      "__________________________________________________________________________________________________\n",
      "activation_74 (Activation)      (None, 14, 14, 128)  0           batch_normalization_74[0][0]     \n",
      "__________________________________________________________________________________________________\n",
      "conv2d_83 (Conv2D)              (None, 7, 7, 128)    16512       activation_74[0][0]              \n",
      "__________________________________________________________________________________________________\n",
      "batch_normalization_75 (BatchNo (None, 7, 7, 128)    512         conv2d_83[0][0]                  \n",
      "__________________________________________________________________________________________________\n",
      "activation_75 (Activation)      (None, 7, 7, 128)    0           batch_normalization_75[0][0]     \n",
      "__________________________________________________________________________________________________\n",
      "conv2d_84 (Conv2D)              (None, 7, 7, 128)    147584      activation_75[0][0]              \n",
      "__________________________________________________________________________________________________\n",
      "batch_normalization_76 (BatchNo (None, 7, 7, 128)    512         conv2d_84[0][0]                  \n",
      "__________________________________________________________________________________________________\n",
      "activation_76 (Activation)      (None, 7, 7, 128)    0           batch_normalization_76[0][0]     \n",
      "__________________________________________________________________________________________________\n",
      "conv2d_86 (Conv2D)              (None, 7, 7, 256)    33024       add_23[0][0]                     \n",
      "__________________________________________________________________________________________________\n",
      "conv2d_85 (Conv2D)              (None, 7, 7, 256)    33024       activation_76[0][0]              \n",
      "__________________________________________________________________________________________________\n",
      "add_24 (Add)                    (None, 7, 7, 256)    0           conv2d_86[0][0]                  \n",
      "                                                                 conv2d_85[0][0]                  \n",
      "__________________________________________________________________________________________________\n",
      "batch_normalization_77 (BatchNo (None, 7, 7, 256)    1024        add_24[0][0]                     \n",
      "__________________________________________________________________________________________________\n",
      "activation_77 (Activation)      (None, 7, 7, 256)    0           batch_normalization_77[0][0]     \n",
      "__________________________________________________________________________________________________\n",
      "conv2d_87 (Conv2D)              (None, 7, 7, 128)    32896       activation_77[0][0]              \n",
      "__________________________________________________________________________________________________\n",
      "batch_normalization_78 (BatchNo (None, 7, 7, 128)    512         conv2d_87[0][0]                  \n",
      "__________________________________________________________________________________________________\n",
      "activation_78 (Activation)      (None, 7, 7, 128)    0           batch_normalization_78[0][0]     \n",
      "__________________________________________________________________________________________________\n",
      "conv2d_88 (Conv2D)              (None, 7, 7, 128)    147584      activation_78[0][0]              \n",
      "__________________________________________________________________________________________________\n",
      "batch_normalization_79 (BatchNo (None, 7, 7, 128)    512         conv2d_88[0][0]                  \n",
      "__________________________________________________________________________________________________\n",
      "activation_79 (Activation)      (None, 7, 7, 128)    0           batch_normalization_79[0][0]     \n",
      "__________________________________________________________________________________________________\n",
      "conv2d_89 (Conv2D)              (None, 7, 7, 256)    33024       activation_79[0][0]              \n",
      "__________________________________________________________________________________________________\n",
      "add_25 (Add)                    (None, 7, 7, 256)    0           add_24[0][0]                     \n",
      "                                                                 conv2d_89[0][0]                  \n",
      "__________________________________________________________________________________________________\n",
      "batch_normalization_80 (BatchNo (None, 7, 7, 256)    1024        add_25[0][0]                     \n",
      "__________________________________________________________________________________________________\n",
      "activation_80 (Activation)      (None, 7, 7, 256)    0           batch_normalization_80[0][0]     \n",
      "__________________________________________________________________________________________________\n",
      "conv2d_90 (Conv2D)              (None, 7, 7, 128)    32896       activation_80[0][0]              \n",
      "__________________________________________________________________________________________________\n",
      "batch_normalization_81 (BatchNo (None, 7, 7, 128)    512         conv2d_90[0][0]                  \n",
      "__________________________________________________________________________________________________\n",
      "activation_81 (Activation)      (None, 7, 7, 128)    0           batch_normalization_81[0][0]     \n",
      "__________________________________________________________________________________________________\n",
      "conv2d_91 (Conv2D)              (None, 7, 7, 128)    147584      activation_81[0][0]              \n",
      "__________________________________________________________________________________________________\n",
      "batch_normalization_82 (BatchNo (None, 7, 7, 128)    512         conv2d_91[0][0]                  \n",
      "__________________________________________________________________________________________________\n",
      "activation_82 (Activation)      (None, 7, 7, 128)    0           batch_normalization_82[0][0]     \n",
      "__________________________________________________________________________________________________\n",
      "conv2d_92 (Conv2D)              (None, 7, 7, 256)    33024       activation_82[0][0]              \n",
      "__________________________________________________________________________________________________\n",
      "add_26 (Add)                    (None, 7, 7, 256)    0           add_25[0][0]                     \n",
      "                                                                 conv2d_92[0][0]                  \n",
      "__________________________________________________________________________________________________\n",
      "batch_normalization_83 (BatchNo (None, 7, 7, 256)    1024        add_26[0][0]                     \n",
      "__________________________________________________________________________________________________\n",
      "activation_83 (Activation)      (None, 7, 7, 256)    0           batch_normalization_83[0][0]     \n",
      "__________________________________________________________________________________________________\n",
      "average_pooling2d_2 (AveragePoo (None, 1, 1, 256)    0           activation_83[0][0]              \n",
      "__________________________________________________________________________________________________\n",
      "flatten (Flatten)               (None, 256)          0           average_pooling2d_2[0][0]        \n",
      "__________________________________________________________________________________________________\n",
      "dense (Dense)                   (None, 250)          64250       flatten[0][0]                    \n",
      "==================================================================================================\n",
      "Total params: 910,394\n",
      "Trainable params: 905,178\n",
      "Non-trainable params: 5,216\n",
      "__________________________________________________________________________________________________\n",
      "ResNet29V2\n",
      "Using real-time data augmentation.\n"
     ]
    }
   ],
   "source": [
    "# Using ResNet V2\n",
    "from __future__ import print_function\n",
    "from tensorflow import keras\n",
    "from tensorflow.keras.layers import Dense, Conv2D, BatchNormalization, Activation\n",
    "from tensorflow.keras.layers import AveragePooling2D, Input, Flatten\n",
    "from tensorflow.keras.optimizers import Adam\n",
    "from tensorflow.keras.callbacks import ModelCheckpoint, LearningRateScheduler\n",
    "from tensorflow.keras.callbacks import ReduceLROnPlateau\n",
    "from tensorflow.keras.preprocessing.image import ImageDataGenerator\n",
    "from tensorflow.keras.regularizers import l2\n",
    "from tensorflow.keras import backend as K\n",
    "from tensorflow.keras.models import Model\n",
    "from tensorflow.keras.datasets import cifar10\n",
    "import numpy as np\n",
    "import os\n",
    "\n",
    "# Training parameters\n",
    "batch_size = 32  # orig paper trained all networks with batch_size=128\n",
    "epochs = 10\n",
    "data_augmentation = True\n",
    "num_classes = number_of_classes\n",
    "\n",
    "# Subtracting pixel mean improves accuracy\n",
    "subtract_pixel_mean = True\n",
    "\n",
    "# Model parameter\n",
    "# ----------------------------------------------------------------------------\n",
    "#           |      | 200-epoch | Orig Paper| 200-epoch | Orig Paper| sec/epoch\n",
    "# Model     |  n   | ResNet v1 | ResNet v1 | ResNet v2 | ResNet v2 | GTX1080Ti\n",
    "#           |v1(v2)| %Accuracy | %Accuracy | %Accuracy | %Accuracy | v1 (v2)\n",
    "# ----------------------------------------------------------------------------\n",
    "# ResNet20  | 3 (2)| 92.16     | 91.25     | -----     | -----     | 35 (---)\n",
    "# ResNet32  | 5(NA)| 92.46     | 92.49     | NA        | NA        | 50 ( NA)\n",
    "# ResNet44  | 7(NA)| 92.50     | 92.83     | NA        | NA        | 70 ( NA)\n",
    "# ResNet56  | 9 (6)| 92.71     | 93.03     | 93.01     | NA        | 90 (100)\n",
    "# ResNet110 |18(12)| 92.65     | 93.39+-.16| 93.15     | 93.63     | 165(180)\n",
    "# ResNet164 |27(18)| -----     | 94.07     | -----     | 94.54     | ---(---)\n",
    "# ResNet1001| (111)| -----     | 92.39     | -----     | 95.08+-.14| ---(---)\n",
    "# ---------------------------------------------------------------------------\n",
    "n = 3\n",
    "\n",
    "depth = n * 9 + 2\n",
    "\n",
    "# Model name, depth and version\n",
    "model_type = 'ResNet%dV2' % (depth)\n",
    "\n",
    "# Input image dimensions.\n",
    "input_shape = x_train.shape[1:]\n",
    "\n",
    "# If subtract pixel mean is enabled\n",
    "if subtract_pixel_mean:\n",
    "    x_train_mean = np.mean(x_train, axis=0)\n",
    "    x_train -= x_train_mean\n",
    "    x_test -= x_train_mean\n",
    "\n",
    "print('x_train shape:', x_train.shape)\n",
    "print(x_train.shape[0], 'train samples')\n",
    "print(x_test.shape[0], 'test samples')\n",
    "print('y_train shape:', y_train.shape)\n",
    "\n",
    "\n",
    "def lr_schedule(epoch):\n",
    "    \"\"\"Learning Rate Schedule\n",
    "\n",
    "    Learning rate is scheduled to be reduced after 80, 120, 160, 180 epochs.\n",
    "    Called automatically every epoch as part of callbacks during training.\n",
    "\n",
    "    # Arguments\n",
    "        epoch (int): The number of epochs\n",
    "\n",
    "    # Returns\n",
    "        lr (float32): learning rate\n",
    "    \"\"\"\n",
    "    lr = 1e-4\n",
    "    if epoch > 180:\n",
    "        lr *= 0.5e-3\n",
    "    elif epoch > 160:\n",
    "        lr *= 1e-3\n",
    "    elif epoch > 120:\n",
    "        lr *= 1e-2\n",
    "    elif epoch > 80:\n",
    "        lr *= 1e-1\n",
    "    print('Learning rate: ', lr)\n",
    "    return lr\n",
    "\n",
    "\n",
    "def resnet_layer(inputs,\n",
    "                 num_filters=16,\n",
    "                 kernel_size=3,\n",
    "                 strides=1,\n",
    "                 activation='relu',\n",
    "                 batch_normalization=True,\n",
    "                 conv_first=True):\n",
    "    \"\"\"2D Convolution-Batch Normalization-Activation stack builder\n",
    "\n",
    "    # Arguments\n",
    "        inputs (tensor): input tensor from input image or previous layer\n",
    "        num_filters (int): Conv2D number of filters\n",
    "        kernel_size (int): Conv2D square kernel dimensions\n",
    "        strides (int): Conv2D square stride dimensions\n",
    "        activation (string): activation name\n",
    "        batch_normalization (bool): whether to include batch normalization\n",
    "        conv_first (bool): conv-bn-activation (True) or\n",
    "            bn-activation-conv (False)\n",
    "\n",
    "    # Returns\n",
    "        x (tensor): tensor as input to the next layer\n",
    "    \"\"\"\n",
    "    conv = Conv2D(num_filters,\n",
    "                  kernel_size=kernel_size,\n",
    "                  strides=strides,\n",
    "                  padding='same',\n",
    "                  kernel_initializer='he_normal',\n",
    "                  kernel_regularizer=l2(1e-4))\n",
    "\n",
    "    x = inputs\n",
    "    if conv_first:\n",
    "        x = conv(x)\n",
    "        if batch_normalization:\n",
    "            x = BatchNormalization()(x)\n",
    "        if activation is not None:\n",
    "            x = Activation(activation)(x)\n",
    "    else:\n",
    "        if batch_normalization:\n",
    "            x = BatchNormalization()(x)\n",
    "        if activation is not None:\n",
    "            x = Activation(activation)(x)\n",
    "        x = conv(x)\n",
    "    return x\n",
    "\n",
    "def resnet_v2(input_shape, depth, num_classes=250):\n",
    "    \"\"\"ResNet Version 2 Model builder [b]\n",
    "\n",
    "    Stacks of (1 x 1)-(3 x 3)-(1 x 1) BN-ReLU-Conv2D or also known as\n",
    "    bottleneck layer\n",
    "    First shortcut connection per layer is 1 x 1 Conv2D.\n",
    "    Second and onwards shortcut connection is identity.\n",
    "    At the beginning of each stage, the feature map size is halved (downsampled)\n",
    "    by a convolutional layer with strides=2, while the number of filter maps is\n",
    "    doubled. Within each stage, the layers have the same number filters and the\n",
    "    same filter map sizes.\n",
    "    Features maps sizes:\n",
    "    conv1  : 32x32,  16\n",
    "    stage 0: 32x32,  64\n",
    "    stage 1: 16x16, 128\n",
    "    stage 2:  8x8,  256\n",
    "\n",
    "    # Arguments\n",
    "        input_shape (tensor): shape of input image tensor\n",
    "        depth (int): number of core convolutional layers\n",
    "        num_classes (int): number of classes (CIFAR10 has 10)\n",
    "\n",
    "    # Returns\n",
    "        model (Model): Keras model instance\n",
    "    \"\"\"\n",
    "    if (depth - 2) % 9 != 0:\n",
    "        raise ValueError('depth should be 9n+2 (eg 56 or 110 in [b])')\n",
    "    # Start model definition.\n",
    "    num_filters_in = 16\n",
    "    num_res_blocks = int((depth - 2) / 9)\n",
    "\n",
    "    inputs = Input(shape=input_shape)\n",
    "    # v2 performs Conv2D with BN-ReLU on input before splitting into 2 paths\n",
    "    x = resnet_layer(inputs=inputs,\n",
    "                     num_filters=num_filters_in,\n",
    "                     conv_first=True)\n",
    "\n",
    "    # Instantiate the stack of residual units\n",
    "    for stage in range(3):\n",
    "        for res_block in range(num_res_blocks):\n",
    "            activation = 'relu'\n",
    "            batch_normalization = True\n",
    "            strides = 1\n",
    "            if stage == 0:\n",
    "                num_filters_out = num_filters_in * 4\n",
    "                if res_block == 0:  # first layer and first stage\n",
    "                    activation = None\n",
    "                    batch_normalization = False\n",
    "            else:\n",
    "                num_filters_out = num_filters_in * 2\n",
    "                if res_block == 0:  # first layer but not first stage\n",
    "                    strides = 2    # downsample\n",
    "\n",
    "            # bottleneck residual unit\n",
    "            y = resnet_layer(inputs=x,\n",
    "                             num_filters=num_filters_in,\n",
    "                             kernel_size=1,\n",
    "                             strides=strides,\n",
    "                             activation=activation,\n",
    "                             batch_normalization=batch_normalization,\n",
    "                             conv_first=False)\n",
    "            y = resnet_layer(inputs=y,\n",
    "                             num_filters=num_filters_in,\n",
    "                             conv_first=False)\n",
    "            y = resnet_layer(inputs=y,\n",
    "                             num_filters=num_filters_out,\n",
    "                             kernel_size=1,\n",
    "                             conv_first=False)\n",
    "            if res_block == 0:\n",
    "                # linear projection residual shortcut connection to match\n",
    "                # changed dims\n",
    "                x = resnet_layer(inputs=x,\n",
    "                                 num_filters=num_filters_out,\n",
    "                                 kernel_size=1,\n",
    "                                 strides=strides,\n",
    "                                 activation=None,\n",
    "                                 batch_normalization=False)\n",
    "            x = keras.layers.add([x, y])\n",
    "\n",
    "        num_filters_in = num_filters_out\n",
    "\n",
    "    # Add classifier on top.\n",
    "    # v2 has BN-ReLU before Pooling\n",
    "    x = BatchNormalization()(x)\n",
    "    x = Activation('relu')(x)\n",
    "    x = AveragePooling2D(pool_size=5)(x)\n",
    "    y = Flatten()(x)\n",
    "    outputs = Dense(num_classes,\n",
    "                    activation='softmax',\n",
    "                    kernel_initializer='he_normal')(y)\n",
    "\n",
    "    # Instantiate model.\n",
    "    model = Model(inputs=inputs, outputs=outputs)\n",
    "    return model\n",
    "\n",
    "# instantiating model\n",
    "model = resnet_v2(input_shape=input_shape, depth=depth)\n",
    "\n",
    "# compiling model\n",
    "model.compile(loss='categorical_crossentropy',\n",
    "              optimizer=Adam(lr=lr_schedule(0)),\n",
    "              metrics=['accuracy'])\n",
    "\n",
    "model.summary()\n",
    "print(model_type)\n",
    "\n",
    "# Prepare model model saving directory.\n",
    "save_dir = os.path.join(os.getcwd(), 'saved_models')\n",
    "model_name = 'cifar10_%s_model.{epoch:03d}.h5' % model_type\n",
    "if not os.path.isdir(save_dir):\n",
    "    os.makedirs(save_dir)\n",
    "filepath = os.path.join(save_dir, model_name)\n",
    "\n",
    "# Prepare callbacks for model saving and for learning rate adjustment.\n",
    "checkpoint = ModelCheckpoint(filepath=filepath,\n",
    "                             monitor='val_acc',\n",
    "                             verbose=1,\n",
    "                             save_best_only=True)\n",
    "\n",
    "lr_scheduler = LearningRateScheduler(lr_schedule)\n",
    "\n",
    "lr_reducer = ReduceLROnPlateau(factor=np.sqrt(0.1),\n",
    "                               cooldown=0,\n",
    "                               patience=5,\n",
    "                               min_lr=0.5e-6)\n",
    "\n",
    "callbacks = [checkpoint, lr_reducer, lr_scheduler]\n",
    "\n",
    "# Run training, with or without data augmentation.\n",
    "if not data_augmentation:\n",
    "    print('Not using data augmentation.')\n",
    "    model.fit(x_train, y_train,\n",
    "              batch_size=batch_size,\n",
    "              epochs=epochs,\n",
    "              validation_data=(x_test, y_test),\n",
    "              shuffle=True,\n",
    "              callbacks=callbacks)\n",
    "else:\n",
    "    print('Using real-time data augmentation.')\n",
    "    # This will do preprocessing and realtime data augmentation:\n",
    "    datagen = ImageDataGenerator(\n",
    "        # set input mean to 0 over the dataset\n",
    "        featurewise_center=False,\n",
    "        # set each sample mean to 0\n",
    "        samplewise_center=False,\n",
    "        # divide inputs by std of dataset\n",
    "        featurewise_std_normalization=False,\n",
    "        # divide each input by its std\n",
    "        samplewise_std_normalization=False,\n",
    "        # apply ZCA whitening\n",
    "        zca_whitening=False,\n",
    "        # epsilon for ZCA whitening\n",
    "        zca_epsilon=1e-06,\n",
    "        # randomly rotate images in the range (deg 0 to 180)\n",
    "        rotation_range=30,\n",
    "        # randomly shift images horizontally\n",
    "        width_shift_range=0.1,\n",
    "        # randomly shift images vertically\n",
    "        height_shift_range=0.1,\n",
    "        # set range for random shear\n",
    "        shear_range=0.1,\n",
    "        # set range for random zoom\n",
    "        zoom_range=0.1,\n",
    "        # set range for random channel shifts\n",
    "        channel_shift_range=0.,\n",
    "        # set mode for filling points outside the input boundaries\n",
    "        fill_mode='nearest',\n",
    "        # value used for fill_mode = \"constant\"\n",
    "        cval=0.,\n",
    "        # randomly flip images\n",
    "        horizontal_flip=True,\n",
    "        # randomly flip images\n",
    "        vertical_flip=False,\n",
    "        # set rescaling factor (applied before any other transformation)\n",
    "        rescale=None,\n",
    "        # set function that will be applied on each input\n",
    "        preprocessing_function=None,\n",
    "        # image data format, either \"channels_first\" or \"channels_last\"\n",
    "        data_format=None,\n",
    "        # fraction of images reserved for validation (strictly between 0 and 1)\n",
    "        validation_split=0.0)\n",
    "\n",
    "    # Compute quantities required for featurewise normalization\n",
    "    # (std, mean, and principal components if ZCA whitening is applied).\n",
    "    datagen.fit(x_train)"
   ]
  },
  {
   "cell_type": "code",
   "execution_count": 14,
   "metadata": {
    "scrolled": true
   },
   "outputs": [
    {
     "name": "stdout",
     "output_type": "stream",
     "text": [
      "Learning rate:  0.0001\n",
      "Epoch 1/100\n",
      "109/110 [============================>.] - ETA: 0s - loss: 5.6837 - accuracy: 0.0222"
     ]
    },
    {
     "name": "stderr",
     "output_type": "stream",
     "text": [
      "W0822 08:25:39.945316 13936 callbacks.py:986] Can save best model only with val_acc available, skipping.\n"
     ]
    },
    {
     "name": "stdout",
     "output_type": "stream",
     "text": [
      "110/110 [==============================] - 41s 372ms/step - loss: 5.6841 - accuracy: 0.0221 - val_loss: 5.7132 - val_accuracy: 0.0160\n",
      "Learning rate:  0.0001\n",
      "Epoch 2/100\n",
      "109/110 [============================>.] - ETA: 0s - loss: 5.6023 - accuracy: 0.0270"
     ]
    },
    {
     "name": "stderr",
     "output_type": "stream",
     "text": [
      "W0822 08:26:46.572583 13936 callbacks.py:986] Can save best model only with val_acc available, skipping.\n"
     ]
    },
    {
     "name": "stdout",
     "output_type": "stream",
     "text": [
      "110/110 [==============================] - 67s 606ms/step - loss: 5.6031 - accuracy: 0.0270 - val_loss: 5.6828 - val_accuracy: 0.0170\n",
      "Learning rate:  0.0001\n",
      "Epoch 3/100\n",
      "109/110 [============================>.] - ETA: 0s - loss: 5.5228 - accuracy: 0.0309"
     ]
    },
    {
     "name": "stderr",
     "output_type": "stream",
     "text": [
      "W0822 08:27:52.989653 13936 callbacks.py:986] Can save best model only with val_acc available, skipping.\n"
     ]
    },
    {
     "name": "stdout",
     "output_type": "stream",
     "text": [
      "110/110 [==============================] - 66s 604ms/step - loss: 5.5224 - accuracy: 0.0311 - val_loss: 5.6335 - val_accuracy: 0.0140\n",
      "Learning rate:  0.0001\n",
      "Epoch 4/100\n",
      "109/110 [============================>.] - ETA: 0s - loss: 5.4601 - accuracy: 0.0338"
     ]
    },
    {
     "name": "stderr",
     "output_type": "stream",
     "text": [
      "W0822 08:28:59.806022 13936 callbacks.py:986] Can save best model only with val_acc available, skipping.\n"
     ]
    },
    {
     "name": "stdout",
     "output_type": "stream",
     "text": [
      "110/110 [==============================] - 67s 607ms/step - loss: 5.4599 - accuracy: 0.0340 - val_loss: 5.5703 - val_accuracy: 0.0240\n",
      "Learning rate:  0.0001\n",
      "Epoch 5/100\n",
      "109/110 [============================>.] - ETA: 0s - loss: 5.3987 - accuracy: 0.0361"
     ]
    },
    {
     "name": "stderr",
     "output_type": "stream",
     "text": [
      "W0822 08:30:07.941167 13936 callbacks.py:986] Can save best model only with val_acc available, skipping.\n"
     ]
    },
    {
     "name": "stdout",
     "output_type": "stream",
     "text": [
      "110/110 [==============================] - 68s 619ms/step - loss: 5.3981 - accuracy: 0.0362 - val_loss: 5.5334 - val_accuracy: 0.0210\n",
      "Learning rate:  0.0001\n",
      "Epoch 6/100\n",
      "109/110 [============================>.] - ETA: 0s - loss: 5.3433 - accuracy: 0.0401"
     ]
    },
    {
     "name": "stderr",
     "output_type": "stream",
     "text": [
      "W0822 08:31:24.431005 13936 callbacks.py:986] Can save best model only with val_acc available, skipping.\n"
     ]
    },
    {
     "name": "stdout",
     "output_type": "stream",
     "text": [
      "110/110 [==============================] - 76s 695ms/step - loss: 5.3432 - accuracy: 0.0400 - val_loss: 5.4955 - val_accuracy: 0.0240\n",
      "Learning rate:  0.0001\n",
      "Epoch 7/100\n",
      "109/110 [============================>.] - ETA: 0s - loss: 5.2958 - accuracy: 0.0453"
     ]
    },
    {
     "name": "stderr",
     "output_type": "stream",
     "text": [
      "W0822 08:32:46.585282 13936 callbacks.py:986] Can save best model only with val_acc available, skipping.\n"
     ]
    },
    {
     "name": "stdout",
     "output_type": "stream",
     "text": [
      "110/110 [==============================] - 82s 746ms/step - loss: 5.2967 - accuracy: 0.0451 - val_loss: 5.5012 - val_accuracy: 0.0240\n",
      "Learning rate:  0.0001\n",
      "Epoch 8/100\n",
      "109/110 [============================>.] - ETA: 0s - loss: 5.2519 - accuracy: 0.0510"
     ]
    },
    {
     "name": "stderr",
     "output_type": "stream",
     "text": [
      "W0822 08:34:08.627396 13936 callbacks.py:986] Can save best model only with val_acc available, skipping.\n"
     ]
    },
    {
     "name": "stdout",
     "output_type": "stream",
     "text": [
      "110/110 [==============================] - 82s 745ms/step - loss: 5.2521 - accuracy: 0.0512 - val_loss: 5.5130 - val_accuracy: 0.0250\n",
      "Learning rate:  0.0001\n",
      "Epoch 9/100\n",
      "109/110 [============================>.] - ETA: 0s - loss: 5.2152 - accuracy: 0.0524"
     ]
    },
    {
     "name": "stderr",
     "output_type": "stream",
     "text": [
      "W0822 08:35:30.651217 13936 callbacks.py:986] Can save best model only with val_acc available, skipping.\n"
     ]
    },
    {
     "name": "stdout",
     "output_type": "stream",
     "text": [
      "110/110 [==============================] - 82s 745ms/step - loss: 5.2151 - accuracy: 0.0523 - val_loss: 5.4397 - val_accuracy: 0.0280\n",
      "Learning rate:  0.0001\n",
      "Epoch 10/100\n",
      "109/110 [============================>.] - ETA: 0s - loss: 5.1791 - accuracy: 0.0568"
     ]
    },
    {
     "name": "stderr",
     "output_type": "stream",
     "text": [
      "W0822 08:36:52.765176 13936 callbacks.py:986] Can save best model only with val_acc available, skipping.\n"
     ]
    },
    {
     "name": "stdout",
     "output_type": "stream",
     "text": [
      "110/110 [==============================] - 82s 746ms/step - loss: 5.1795 - accuracy: 0.0568 - val_loss: 5.3252 - val_accuracy: 0.0330\n",
      "Learning rate:  0.0001\n",
      "Epoch 11/100\n",
      "109/110 [============================>.] - ETA: 0s - loss: 5.1473 - accuracy: 0.0592"
     ]
    },
    {
     "name": "stderr",
     "output_type": "stream",
     "text": [
      "W0822 08:37:56.277341 13936 callbacks.py:986] Can save best model only with val_acc available, skipping.\n"
     ]
    },
    {
     "name": "stdout",
     "output_type": "stream",
     "text": [
      "110/110 [==============================] - 63s 577ms/step - loss: 5.1479 - accuracy: 0.0591 - val_loss: 5.3336 - val_accuracy: 0.0380\n",
      "Learning rate:  0.0001\n",
      "Epoch 12/100\n",
      "109/110 [============================>.] - ETA: 0s - loss: 5.1169 - accuracy: 0.0636"
     ]
    },
    {
     "name": "stderr",
     "output_type": "stream",
     "text": [
      "W0822 08:39:25.279568 13936 callbacks.py:986] Can save best model only with val_acc available, skipping.\n"
     ]
    },
    {
     "name": "stdout",
     "output_type": "stream",
     "text": [
      "110/110 [==============================] - 89s 809ms/step - loss: 5.1181 - accuracy: 0.0636 - val_loss: 5.3184 - val_accuracy: 0.0390\n",
      "Learning rate:  0.0001\n",
      "Epoch 13/100\n",
      "109/110 [============================>.] - ETA: 0s - loss: 5.0898 - accuracy: 0.0649"
     ]
    },
    {
     "name": "stderr",
     "output_type": "stream",
     "text": [
      "W0822 08:40:49.120824 13936 callbacks.py:986] Can save best model only with val_acc available, skipping.\n"
     ]
    },
    {
     "name": "stdout",
     "output_type": "stream",
     "text": [
      "110/110 [==============================] - 84s 762ms/step - loss: 5.0889 - accuracy: 0.0648 - val_loss: 5.2729 - val_accuracy: 0.0370\n",
      "Learning rate:  0.0001\n",
      "Epoch 14/100\n",
      "109/110 [============================>.] - ETA: 0s - loss: 5.0583 - accuracy: 0.0649"
     ]
    },
    {
     "name": "stderr",
     "output_type": "stream",
     "text": [
      "W0822 08:42:11.115499 13936 callbacks.py:986] Can save best model only with val_acc available, skipping.\n"
     ]
    },
    {
     "name": "stdout",
     "output_type": "stream",
     "text": [
      "110/110 [==============================] - 82s 745ms/step - loss: 5.0589 - accuracy: 0.0648 - val_loss: 5.3310 - val_accuracy: 0.0400\n",
      "Learning rate:  0.0001\n",
      "Epoch 15/100\n",
      "109/110 [============================>.] - ETA: 0s - loss: 5.0347 - accuracy: 0.0682"
     ]
    },
    {
     "name": "stderr",
     "output_type": "stream",
     "text": [
      "W0822 08:43:33.244999 13936 callbacks.py:986] Can save best model only with val_acc available, skipping.\n"
     ]
    },
    {
     "name": "stdout",
     "output_type": "stream",
     "text": [
      "110/110 [==============================] - 82s 746ms/step - loss: 5.0341 - accuracy: 0.0685 - val_loss: 5.2492 - val_accuracy: 0.0400\n",
      "Learning rate:  0.0001\n",
      "Epoch 16/100\n",
      "109/110 [============================>.] - ETA: 0s - loss: 5.0159 - accuracy: 0.0701"
     ]
    },
    {
     "name": "stderr",
     "output_type": "stream",
     "text": [
      "W0822 08:44:55.421143 13936 callbacks.py:986] Can save best model only with val_acc available, skipping.\n"
     ]
    },
    {
     "name": "stdout",
     "output_type": "stream",
     "text": [
      "110/110 [==============================] - 82s 747ms/step - loss: 5.0170 - accuracy: 0.0701 - val_loss: 5.2041 - val_accuracy: 0.0440\n",
      "Learning rate:  0.0001\n",
      "Epoch 17/100\n",
      "109/110 [============================>.] - ETA: 0s - loss: 4.9940 - accuracy: 0.0749"
     ]
    },
    {
     "name": "stderr",
     "output_type": "stream",
     "text": [
      "W0822 08:46:17.537691 13936 callbacks.py:986] Can save best model only with val_acc available, skipping.\n"
     ]
    },
    {
     "name": "stdout",
     "output_type": "stream",
     "text": [
      "110/110 [==============================] - 82s 746ms/step - loss: 4.9936 - accuracy: 0.0750 - val_loss: 5.3017 - val_accuracy: 0.0410\n",
      "Learning rate:  0.0001\n",
      "Epoch 18/100\n",
      "109/110 [============================>.] - ETA: 0s - loss: 4.9706 - accuracy: 0.0751"
     ]
    },
    {
     "name": "stderr",
     "output_type": "stream",
     "text": [
      "W0822 08:47:39.770675 13936 callbacks.py:986] Can save best model only with val_acc available, skipping.\n"
     ]
    },
    {
     "name": "stdout",
     "output_type": "stream",
     "text": [
      "110/110 [==============================] - 82s 747ms/step - loss: 4.9710 - accuracy: 0.0750 - val_loss: 5.2136 - val_accuracy: 0.0470\n",
      "Learning rate:  0.0001\n",
      "Epoch 19/100\n",
      "109/110 [============================>.] - ETA: 0s - loss: 4.9496 - accuracy: 0.0775"
     ]
    },
    {
     "name": "stderr",
     "output_type": "stream",
     "text": [
      "W0822 08:49:01.786255 13936 callbacks.py:986] Can save best model only with val_acc available, skipping.\n"
     ]
    },
    {
     "name": "stdout",
     "output_type": "stream",
     "text": [
      "110/110 [==============================] - 82s 745ms/step - loss: 4.9478 - accuracy: 0.0775 - val_loss: 5.1527 - val_accuracy: 0.0500\n",
      "Learning rate:  0.0001\n",
      "Epoch 20/100\n",
      "109/110 [============================>.] - ETA: 0s - loss: 4.9301 - accuracy: 0.0801"
     ]
    },
    {
     "name": "stderr",
     "output_type": "stream",
     "text": [
      "W0822 08:50:25.837053 13936 callbacks.py:986] Can save best model only with val_acc available, skipping.\n"
     ]
    },
    {
     "name": "stdout",
     "output_type": "stream",
     "text": [
      "110/110 [==============================] - 84s 764ms/step - loss: 4.9304 - accuracy: 0.0801 - val_loss: 5.1436 - val_accuracy: 0.0550\n",
      "Learning rate:  0.0001\n",
      "Epoch 21/100\n",
      "109/110 [============================>.] - ETA: 0s - loss: 4.9046 - accuracy: 0.0825"
     ]
    },
    {
     "name": "stderr",
     "output_type": "stream",
     "text": [
      "W0822 08:51:48.011762 13936 callbacks.py:986] Can save best model only with val_acc available, skipping.\n"
     ]
    },
    {
     "name": "stdout",
     "output_type": "stream",
     "text": [
      "110/110 [==============================] - 82s 747ms/step - loss: 4.9039 - accuracy: 0.0825 - val_loss: 5.1567 - val_accuracy: 0.0500\n",
      "Learning rate:  0.0001\n",
      "Epoch 22/100\n",
      "109/110 [============================>.] - ETA: 0s - loss: 4.8954 - accuracy: 0.0829"
     ]
    },
    {
     "name": "stderr",
     "output_type": "stream",
     "text": [
      "W0822 08:53:10.083116 13936 callbacks.py:986] Can save best model only with val_acc available, skipping.\n"
     ]
    },
    {
     "name": "stdout",
     "output_type": "stream",
     "text": [
      "110/110 [==============================] - 82s 746ms/step - loss: 4.8944 - accuracy: 0.0828 - val_loss: 5.1635 - val_accuracy: 0.0470\n",
      "Learning rate:  0.0001\n",
      "Epoch 23/100\n",
      "109/110 [============================>.] - ETA: 0s - loss: 4.8692 - accuracy: 0.0845"
     ]
    },
    {
     "name": "stderr",
     "output_type": "stream",
     "text": [
      "W0822 08:54:32.014933 13936 callbacks.py:986] Can save best model only with val_acc available, skipping.\n"
     ]
    },
    {
     "name": "stdout",
     "output_type": "stream",
     "text": [
      "110/110 [==============================] - 82s 744ms/step - loss: 4.8711 - accuracy: 0.0847 - val_loss: 5.2167 - val_accuracy: 0.0490\n",
      "Learning rate:  0.0001\n",
      "Epoch 24/100\n",
      "109/110 [============================>.] - ETA: 0s - loss: 4.8558 - accuracy: 0.0853"
     ]
    },
    {
     "name": "stderr",
     "output_type": "stream",
     "text": [
      "W0822 08:55:53.984720 13936 callbacks.py:986] Can save best model only with val_acc available, skipping.\n"
     ]
    },
    {
     "name": "stdout",
     "output_type": "stream",
     "text": [
      "110/110 [==============================] - 82s 745ms/step - loss: 4.8547 - accuracy: 0.0854 - val_loss: 5.1521 - val_accuracy: 0.0510\n",
      "Learning rate:  0.0001\n",
      "Epoch 25/100\n",
      "109/110 [============================>.] - ETA: 0s - loss: 4.8354 - accuracy: 0.0902"
     ]
    },
    {
     "name": "stderr",
     "output_type": "stream",
     "text": [
      "W0822 08:57:16.058842 13936 callbacks.py:986] Can save best model only with val_acc available, skipping.\n"
     ]
    },
    {
     "name": "stdout",
     "output_type": "stream",
     "text": [
      "110/110 [==============================] - 82s 746ms/step - loss: 4.8344 - accuracy: 0.0900 - val_loss: 5.1413 - val_accuracy: 0.0570\n",
      "Learning rate:  0.0001\n",
      "Epoch 26/100\n",
      "109/110 [============================>.] - ETA: 0s - loss: 4.8182 - accuracy: 0.0897"
     ]
    },
    {
     "name": "stderr",
     "output_type": "stream",
     "text": [
      "W0822 08:58:38.105535 13936 callbacks.py:986] Can save best model only with val_acc available, skipping.\n"
     ]
    },
    {
     "name": "stdout",
     "output_type": "stream",
     "text": [
      "110/110 [==============================] - 82s 745ms/step - loss: 4.8183 - accuracy: 0.0898 - val_loss: 5.1137 - val_accuracy: 0.0550\n",
      "Learning rate:  0.0001\n",
      "Epoch 27/100\n",
      "109/110 [============================>.] - ETA: 0s - loss: 4.8006 - accuracy: 0.0935"
     ]
    },
    {
     "name": "stderr",
     "output_type": "stream",
     "text": [
      "W0822 09:00:00.210273 13936 callbacks.py:986] Can save best model only with val_acc available, skipping.\n"
     ]
    },
    {
     "name": "stdout",
     "output_type": "stream",
     "text": [
      "110/110 [==============================] - 82s 746ms/step - loss: 4.8009 - accuracy: 0.0936 - val_loss: 5.0553 - val_accuracy: 0.0680\n",
      "Learning rate:  0.0001\n",
      "Epoch 28/100\n",
      "109/110 [============================>.] - ETA: 0s - loss: 4.7769 - accuracy: 0.0961"
     ]
    },
    {
     "name": "stderr",
     "output_type": "stream",
     "text": [
      "W0822 09:01:24.472755 13936 callbacks.py:986] Can save best model only with val_acc available, skipping.\n"
     ]
    },
    {
     "name": "stdout",
     "output_type": "stream",
     "text": [
      "110/110 [==============================] - 84s 766ms/step - loss: 4.7776 - accuracy: 0.0962 - val_loss: 5.2746 - val_accuracy: 0.0530\n",
      "Learning rate:  0.0001\n",
      "Epoch 29/100\n",
      "109/110 [============================>.] - ETA: 0s - loss: 4.7620 - accuracy: 0.0982"
     ]
    },
    {
     "name": "stderr",
     "output_type": "stream",
     "text": [
      "W0822 09:02:47.830501 13936 callbacks.py:986] Can save best model only with val_acc available, skipping.\n"
     ]
    },
    {
     "name": "stdout",
     "output_type": "stream",
     "text": [
      "110/110 [==============================] - 83s 757ms/step - loss: 4.7639 - accuracy: 0.0978 - val_loss: 5.2318 - val_accuracy: 0.0650\n",
      "Learning rate:  0.0001\n",
      "Epoch 30/100\n",
      "109/110 [============================>.] - ETA: 0s - loss: 4.7440 - accuracy: 0.1000"
     ]
    },
    {
     "name": "stderr",
     "output_type": "stream",
     "text": [
      "W0822 09:04:16.436015 13936 callbacks.py:986] Can save best model only with val_acc available, skipping.\n"
     ]
    },
    {
     "name": "stdout",
     "output_type": "stream",
     "text": [
      "110/110 [==============================] - 89s 805ms/step - loss: 4.7459 - accuracy: 0.0995 - val_loss: 5.4049 - val_accuracy: 0.0490\n",
      "Learning rate:  0.0001\n",
      "Epoch 31/100\n",
      "109/110 [============================>.] - ETA: 0s - loss: 4.7335 - accuracy: 0.0996"
     ]
    },
    {
     "name": "stderr",
     "output_type": "stream",
     "text": [
      "W0822 09:05:59.237882 13936 callbacks.py:986] Can save best model only with val_acc available, skipping.\n"
     ]
    },
    {
     "name": "stdout",
     "output_type": "stream",
     "text": [
      "110/110 [==============================] - 103s 934ms/step - loss: 4.7336 - accuracy: 0.0994 - val_loss: 5.2351 - val_accuracy: 0.0680\n",
      "Learning rate:  0.0001\n",
      "Epoch 32/100\n",
      "109/110 [============================>.] - ETA: 0s - loss: 4.7229 - accuracy: 0.1021"
     ]
    },
    {
     "name": "stderr",
     "output_type": "stream",
     "text": [
      "W0822 09:07:34.699194 13936 callbacks.py:986] Can save best model only with val_acc available, skipping.\n"
     ]
    },
    {
     "name": "stdout",
     "output_type": "stream",
     "text": [
      "110/110 [==============================] - 95s 867ms/step - loss: 4.7234 - accuracy: 0.1022 - val_loss: 4.9637 - val_accuracy: 0.0850\n",
      "Learning rate:  0.0001\n",
      "Epoch 33/100\n",
      "109/110 [============================>.] - ETA: 0s - loss: 4.7088 - accuracy: 0.1007"
     ]
    },
    {
     "name": "stderr",
     "output_type": "stream",
     "text": [
      "W0822 09:09:14.685366 13936 callbacks.py:986] Can save best model only with val_acc available, skipping.\n"
     ]
    },
    {
     "name": "stdout",
     "output_type": "stream",
     "text": [
      "110/110 [==============================] - 100s 909ms/step - loss: 4.7075 - accuracy: 0.1009 - val_loss: 5.0830 - val_accuracy: 0.0770\n",
      "Learning rate:  0.0001\n",
      "Epoch 34/100\n",
      "109/110 [============================>.] - ETA: 0s - loss: 4.6872 - accuracy: 0.1012"
     ]
    },
    {
     "name": "stderr",
     "output_type": "stream",
     "text": [
      "W0822 09:10:57.082203 13936 callbacks.py:986] Can save best model only with val_acc available, skipping.\n"
     ]
    },
    {
     "name": "stdout",
     "output_type": "stream",
     "text": [
      "110/110 [==============================] - 102s 931ms/step - loss: 4.6883 - accuracy: 0.1012 - val_loss: 5.0488 - val_accuracy: 0.0840\n",
      "Learning rate:  0.0001\n",
      "Epoch 35/100\n",
      "109/110 [============================>.] - ETA: 1s - loss: 4.6725 - accuracy: 0.1056"
     ]
    },
    {
     "name": "stderr",
     "output_type": "stream",
     "text": [
      "W0822 09:12:49.709253 13936 callbacks.py:986] Can save best model only with val_acc available, skipping.\n"
     ]
    },
    {
     "name": "stdout",
     "output_type": "stream",
     "text": [
      "110/110 [==============================] - 113s 1s/step - loss: 4.6740 - accuracy: 0.1055 - val_loss: 4.9884 - val_accuracy: 0.0820\n",
      "Learning rate:  0.0001\n",
      "Epoch 36/100\n",
      "109/110 [============================>.] - ETA: 0s - loss: 4.6635 - accuracy: 0.1088"
     ]
    },
    {
     "name": "stderr",
     "output_type": "stream",
     "text": [
      "W0822 09:14:35.189442 13936 callbacks.py:986] Can save best model only with val_acc available, skipping.\n"
     ]
    },
    {
     "name": "stdout",
     "output_type": "stream",
     "text": [
      "110/110 [==============================] - 105s 958ms/step - loss: 4.6638 - accuracy: 0.1085 - val_loss: 5.0869 - val_accuracy: 0.0700\n",
      "Learning rate:  0.0001\n",
      "Epoch 37/100\n",
      "109/110 [============================>.] - ETA: 0s - loss: 4.6436 - accuracy: 0.1096"
     ]
    },
    {
     "name": "stderr",
     "output_type": "stream",
     "text": [
      "W0822 09:16:21.030696 13936 callbacks.py:986] Can save best model only with val_acc available, skipping.\n"
     ]
    },
    {
     "name": "stdout",
     "output_type": "stream",
     "text": [
      "110/110 [==============================] - 106s 962ms/step - loss: 4.6437 - accuracy: 0.1093 - val_loss: 5.0489 - val_accuracy: 0.0670\n",
      "Learning rate:  0.0001\n",
      "Epoch 38/100\n",
      "109/110 [============================>.] - ETA: 0s - loss: 4.6368 - accuracy: 0.1109"
     ]
    },
    {
     "name": "stderr",
     "output_type": "stream",
     "text": [
      "W0822 09:18:08.500582 13936 callbacks.py:986] Can save best model only with val_acc available, skipping.\n"
     ]
    },
    {
     "name": "stdout",
     "output_type": "stream",
     "text": [
      "110/110 [==============================] - 107s 976ms/step - loss: 4.6379 - accuracy: 0.1110 - val_loss: 4.9676 - val_accuracy: 0.0970\n",
      "Learning rate:  0.0001\n",
      "Epoch 39/100\n",
      "109/110 [============================>.] - ETA: 0s - loss: 4.6257 - accuracy: 0.1125"
     ]
    },
    {
     "name": "stderr",
     "output_type": "stream",
     "text": [
      "W0822 09:19:52.376343 13936 callbacks.py:986] Can save best model only with val_acc available, skipping.\n"
     ]
    },
    {
     "name": "stdout",
     "output_type": "stream",
     "text": [
      "110/110 [==============================] - 104s 944ms/step - loss: 4.6256 - accuracy: 0.1125 - val_loss: 4.9944 - val_accuracy: 0.0770\n",
      "Learning rate:  0.0001\n",
      "Epoch 40/100\n",
      "109/110 [============================>.] - ETA: 0s - loss: 4.6087 - accuracy: 0.1149"
     ]
    },
    {
     "name": "stderr",
     "output_type": "stream",
     "text": [
      "W0822 09:21:41.806880 13936 callbacks.py:986] Can save best model only with val_acc available, skipping.\n"
     ]
    },
    {
     "name": "stdout",
     "output_type": "stream",
     "text": [
      "110/110 [==============================] - 109s 994ms/step - loss: 4.6077 - accuracy: 0.1148 - val_loss: 5.0196 - val_accuracy: 0.0710\n",
      "Learning rate:  0.0001\n",
      "Epoch 41/100\n",
      "109/110 [============================>.] - ETA: 1s - loss: 4.5936 - accuracy: 0.1135"
     ]
    },
    {
     "name": "stderr",
     "output_type": "stream",
     "text": [
      "W0822 09:23:35.626487 13936 callbacks.py:986] Can save best model only with val_acc available, skipping.\n"
     ]
    },
    {
     "name": "stdout",
     "output_type": "stream",
     "text": [
      "110/110 [==============================] - 114s 1s/step - loss: 4.5938 - accuracy: 0.1135 - val_loss: 4.8882 - val_accuracy: 0.0870\n",
      "Learning rate:  0.0001\n",
      "Epoch 42/100\n",
      "109/110 [============================>.] - ETA: 1s - loss: 4.5805 - accuracy: 0.1162"
     ]
    },
    {
     "name": "stderr",
     "output_type": "stream",
     "text": [
      "W0822 09:25:30.352908 13936 callbacks.py:986] Can save best model only with val_acc available, skipping.\n"
     ]
    },
    {
     "name": "stdout",
     "output_type": "stream",
     "text": [
      "110/110 [==============================] - 115s 1s/step - loss: 4.5810 - accuracy: 0.1158 - val_loss: 4.9008 - val_accuracy: 0.0900\n",
      "Learning rate:  0.0001\n",
      "Epoch 43/100\n",
      "109/110 [============================>.] - ETA: 1s - loss: 4.5701 - accuracy: 0.1172"
     ]
    },
    {
     "name": "stderr",
     "output_type": "stream",
     "text": [
      "W0822 09:27:29.446223 13936 callbacks.py:986] Can save best model only with val_acc available, skipping.\n"
     ]
    },
    {
     "name": "stdout",
     "output_type": "stream",
     "text": [
      "110/110 [==============================] - 119s 1s/step - loss: 4.5709 - accuracy: 0.1170 - val_loss: 4.8347 - val_accuracy: 0.1070\n",
      "Learning rate:  0.0001\n",
      "Epoch 44/100\n",
      "109/110 [============================>.] - ETA: 1s - loss: 4.5578 - accuracy: 0.1180"
     ]
    },
    {
     "name": "stderr",
     "output_type": "stream",
     "text": [
      "W0822 09:29:32.526825 13936 callbacks.py:986] Can save best model only with val_acc available, skipping.\n"
     ]
    },
    {
     "name": "stdout",
     "output_type": "stream",
     "text": [
      "110/110 [==============================] - 123s 1s/step - loss: 4.5594 - accuracy: 0.1177 - val_loss: 4.9215 - val_accuracy: 0.0820\n",
      "Learning rate:  0.0001\n",
      "Epoch 45/100\n",
      "109/110 [============================>.] - ETA: 1s - loss: 4.5445 - accuracy: 0.1178"
     ]
    },
    {
     "name": "stderr",
     "output_type": "stream",
     "text": [
      "W0822 09:31:39.975311 13936 callbacks.py:986] Can save best model only with val_acc available, skipping.\n"
     ]
    },
    {
     "name": "stdout",
     "output_type": "stream",
     "text": [
      "110/110 [==============================] - 127s 1s/step - loss: 4.5469 - accuracy: 0.1175 - val_loss: 4.9416 - val_accuracy: 0.0940\n",
      "Learning rate:  0.0001\n",
      "Epoch 46/100\n",
      "109/110 [============================>.] - ETA: 1s - loss: 4.5412 - accuracy: 0.1219"
     ]
    },
    {
     "name": "stderr",
     "output_type": "stream",
     "text": [
      "W0822 09:33:37.122531 13936 callbacks.py:986] Can save best model only with val_acc available, skipping.\n"
     ]
    },
    {
     "name": "stdout",
     "output_type": "stream",
     "text": [
      "110/110 [==============================] - 117s 1s/step - loss: 4.5407 - accuracy: 0.1223 - val_loss: 5.0428 - val_accuracy: 0.0890\n",
      "Learning rate:  0.0001\n",
      "Epoch 47/100\n",
      "109/110 [============================>.] - ETA: 1s - loss: 4.5291 - accuracy: 0.1204"
     ]
    },
    {
     "name": "stderr",
     "output_type": "stream",
     "text": [
      "W0822 09:35:32.520763 13936 callbacks.py:986] Can save best model only with val_acc available, skipping.\n"
     ]
    },
    {
     "name": "stdout",
     "output_type": "stream",
     "text": [
      "110/110 [==============================] - 115s 1s/step - loss: 4.5294 - accuracy: 0.1203 - val_loss: 4.9063 - val_accuracy: 0.0960\n",
      "Learning rate:  0.0001\n",
      "Epoch 48/100\n",
      "109/110 [============================>.] - ETA: 1s - loss: 4.5094 - accuracy: 0.1243"
     ]
    },
    {
     "name": "stderr",
     "output_type": "stream",
     "text": [
      "W0822 09:37:31.882431 13936 callbacks.py:986] Can save best model only with val_acc available, skipping.\n"
     ]
    },
    {
     "name": "stdout",
     "output_type": "stream",
     "text": [
      "110/110 [==============================] - 119s 1s/step - loss: 4.5092 - accuracy: 0.1241 - val_loss: 5.0231 - val_accuracy: 0.0770\n",
      "Learning rate:  0.0001\n",
      "Epoch 49/100\n",
      "109/110 [============================>.] - ETA: 1s - loss: 4.5047 - accuracy: 0.1238"
     ]
    },
    {
     "name": "stderr",
     "output_type": "stream",
     "text": [
      "W0822 09:39:29.587953 13936 callbacks.py:986] Can save best model only with val_acc available, skipping.\n"
     ]
    },
    {
     "name": "stdout",
     "output_type": "stream",
     "text": [
      "110/110 [==============================] - 118s 1s/step - loss: 4.5044 - accuracy: 0.1242 - val_loss: 4.9454 - val_accuracy: 0.0880\n",
      "Learning rate:  0.0001\n",
      "Epoch 50/100\n",
      "109/110 [============================>.] - ETA: 1s - loss: 4.4894 - accuracy: 0.1264"
     ]
    },
    {
     "name": "stderr",
     "output_type": "stream",
     "text": [
      "W0822 09:41:37.213235 13936 callbacks.py:986] Can save best model only with val_acc available, skipping.\n"
     ]
    },
    {
     "name": "stdout",
     "output_type": "stream",
     "text": [
      "110/110 [==============================] - 128s 1s/step - loss: 4.4904 - accuracy: 0.1264 - val_loss: 4.8279 - val_accuracy: 0.0960\n",
      "Learning rate:  0.0001\n",
      "Epoch 51/100\n",
      "109/110 [============================>.] - ETA: 1s - loss: 4.4782 - accuracy: 0.1286"
     ]
    },
    {
     "name": "stderr",
     "output_type": "stream",
     "text": [
      "W0822 09:43:55.719445 13936 callbacks.py:986] Can save best model only with val_acc available, skipping.\n"
     ]
    },
    {
     "name": "stdout",
     "output_type": "stream",
     "text": [
      "110/110 [==============================] - 138s 1s/step - loss: 4.4786 - accuracy: 0.1280 - val_loss: 4.8114 - val_accuracy: 0.0980\n",
      "Learning rate:  0.0001\n",
      "Epoch 52/100\n",
      "109/110 [============================>.] - ETA: 1s - loss: 4.4690 - accuracy: 0.1289"
     ]
    },
    {
     "name": "stderr",
     "output_type": "stream",
     "text": [
      "W0822 09:46:07.918723 13936 callbacks.py:986] Can save best model only with val_acc available, skipping.\n"
     ]
    },
    {
     "name": "stdout",
     "output_type": "stream",
     "text": [
      "110/110 [==============================] - 132s 1s/step - loss: 4.4696 - accuracy: 0.1287 - val_loss: 4.8935 - val_accuracy: 0.0930\n",
      "Learning rate:  0.0001\n",
      "Epoch 53/100\n",
      "109/110 [============================>.] - ETA: 1s - loss: 4.4598 - accuracy: 0.1272"
     ]
    },
    {
     "name": "stderr",
     "output_type": "stream",
     "text": [
      "W0822 09:48:24.121291 13936 callbacks.py:986] Can save best model only with val_acc available, skipping.\n"
     ]
    },
    {
     "name": "stdout",
     "output_type": "stream",
     "text": [
      "110/110 [==============================] - 136s 1s/step - loss: 4.4590 - accuracy: 0.1273 - val_loss: 4.7713 - val_accuracy: 0.1000\n",
      "Learning rate:  0.0001\n",
      "Epoch 54/100\n",
      "109/110 [============================>.] - ETA: 1s - loss: 4.4475 - accuracy: 0.1324"
     ]
    },
    {
     "name": "stderr",
     "output_type": "stream",
     "text": [
      "W0822 09:50:41.027315 13936 callbacks.py:986] Can save best model only with val_acc available, skipping.\n"
     ]
    },
    {
     "name": "stdout",
     "output_type": "stream",
     "text": [
      "110/110 [==============================] - 137s 1s/step - loss: 4.4470 - accuracy: 0.1321 - val_loss: 5.0111 - val_accuracy: 0.0860\n",
      "Learning rate:  0.0001\n",
      "Epoch 55/100\n",
      "109/110 [============================>.] - ETA: 1s - loss: 4.4386 - accuracy: 0.1305"
     ]
    },
    {
     "name": "stderr",
     "output_type": "stream",
     "text": [
      "W0822 09:52:58.687210 13936 callbacks.py:986] Can save best model only with val_acc available, skipping.\n"
     ]
    },
    {
     "name": "stdout",
     "output_type": "stream",
     "text": [
      "110/110 [==============================] - 138s 1s/step - loss: 4.4393 - accuracy: 0.1306 - val_loss: 4.8092 - val_accuracy: 0.0930\n",
      "Learning rate:  0.0001\n",
      "Epoch 56/100\n",
      "109/110 [============================>.] - ETA: 1s - loss: 4.4270 - accuracy: 0.1323"
     ]
    },
    {
     "name": "stderr",
     "output_type": "stream",
     "text": [
      "W0822 09:55:16.480484 13936 callbacks.py:986] Can save best model only with val_acc available, skipping.\n"
     ]
    },
    {
     "name": "stdout",
     "output_type": "stream",
     "text": [
      "110/110 [==============================] - 138s 1s/step - loss: 4.4274 - accuracy: 0.1327 - val_loss: 4.8943 - val_accuracy: 0.1020\n",
      "Learning rate:  0.0001\n",
      "Epoch 57/100\n",
      "109/110 [============================>.] - ETA: 1s - loss: 4.4186 - accuracy: 0.1340"
     ]
    },
    {
     "name": "stderr",
     "output_type": "stream",
     "text": [
      "W0822 09:57:28.857758 13936 callbacks.py:986] Can save best model only with val_acc available, skipping.\n"
     ]
    },
    {
     "name": "stdout",
     "output_type": "stream",
     "text": [
      "110/110 [==============================] - 132s 1s/step - loss: 4.4191 - accuracy: 0.1337 - val_loss: 4.8415 - val_accuracy: 0.1000\n",
      "Learning rate:  0.0001\n",
      "Epoch 58/100\n",
      "109/110 [============================>.] - ETA: 1s - loss: 4.4049 - accuracy: 0.1357"
     ]
    },
    {
     "name": "stderr",
     "output_type": "stream",
     "text": [
      "W0822 09:59:47.094508 13936 callbacks.py:986] Can save best model only with val_acc available, skipping.\n"
     ]
    },
    {
     "name": "stdout",
     "output_type": "stream",
     "text": [
      "110/110 [==============================] - 138s 1s/step - loss: 4.4049 - accuracy: 0.1357 - val_loss: 4.7414 - val_accuracy: 0.0990\n",
      "Learning rate:  0.0001\n",
      "Epoch 59/100\n",
      "109/110 [============================>.] - ETA: 1s - loss: 4.3948 - accuracy: 0.1403"
     ]
    },
    {
     "name": "stderr",
     "output_type": "stream",
     "text": [
      "W0822 10:02:06.134952 13936 callbacks.py:986] Can save best model only with val_acc available, skipping.\n"
     ]
    },
    {
     "name": "stdout",
     "output_type": "stream",
     "text": [
      "110/110 [==============================] - 139s 1s/step - loss: 4.3950 - accuracy: 0.1402 - val_loss: 4.8367 - val_accuracy: 0.0930\n",
      "Learning rate:  0.0001\n",
      "Epoch 60/100\n",
      "109/110 [============================>.] - ETA: 1s - loss: 4.3923 - accuracy: 0.1351"
     ]
    },
    {
     "name": "stderr",
     "output_type": "stream",
     "text": [
      "W0822 10:04:13.788590 13936 callbacks.py:986] Can save best model only with val_acc available, skipping.\n"
     ]
    },
    {
     "name": "stdout",
     "output_type": "stream",
     "text": [
      "110/110 [==============================] - 128s 1s/step - loss: 4.3921 - accuracy: 0.1353 - val_loss: 4.7755 - val_accuracy: 0.1040\n",
      "Learning rate:  0.0001\n",
      "Epoch 61/100\n",
      "109/110 [============================>.] - ETA: 1s - loss: 4.3849 - accuracy: 0.1404"
     ]
    },
    {
     "name": "stderr",
     "output_type": "stream",
     "text": [
      "W0822 10:06:18.657356 13936 callbacks.py:986] Can save best model only with val_acc available, skipping.\n"
     ]
    },
    {
     "name": "stdout",
     "output_type": "stream",
     "text": [
      "110/110 [==============================] - 125s 1s/step - loss: 4.3832 - accuracy: 0.1404 - val_loss: 4.7419 - val_accuracy: 0.1090\n",
      "Learning rate:  0.0001\n",
      "Epoch 62/100\n",
      "109/110 [============================>.] - ETA: 1s - loss: 4.3728 - accuracy: 0.1417"
     ]
    },
    {
     "name": "stderr",
     "output_type": "stream",
     "text": [
      "W0822 10:08:36.638710 13936 callbacks.py:986] Can save best model only with val_acc available, skipping.\n"
     ]
    },
    {
     "name": "stdout",
     "output_type": "stream",
     "text": [
      "110/110 [==============================] - 138s 1s/step - loss: 4.3746 - accuracy: 0.1415 - val_loss: 4.7553 - val_accuracy: 0.0980\n",
      "Learning rate:  0.0001\n",
      "Epoch 63/100\n",
      "109/110 [============================>.] - ETA: 1s - loss: 4.3623 - accuracy: 0.1420"
     ]
    },
    {
     "name": "stderr",
     "output_type": "stream",
     "text": [
      "W0822 10:10:55.703047 13936 callbacks.py:986] Can save best model only with val_acc available, skipping.\n"
     ]
    },
    {
     "name": "stdout",
     "output_type": "stream",
     "text": [
      "110/110 [==============================] - 139s 1s/step - loss: 4.3624 - accuracy: 0.1422 - val_loss: 4.7637 - val_accuracy: 0.1020\n",
      "Learning rate:  0.0001\n",
      "Epoch 64/100\n",
      "109/110 [============================>.] - ETA: 1s - loss: 4.3451 - accuracy: 0.1426"
     ]
    },
    {
     "name": "stderr",
     "output_type": "stream",
     "text": [
      "W0822 10:13:14.066011 13936 callbacks.py:986] Can save best model only with val_acc available, skipping.\n"
     ]
    },
    {
     "name": "stdout",
     "output_type": "stream",
     "text": [
      "110/110 [==============================] - 138s 1s/step - loss: 4.3452 - accuracy: 0.1427 - val_loss: 4.7815 - val_accuracy: 0.1040\n",
      "Learning rate:  0.0001\n",
      "Epoch 65/100\n",
      "109/110 [============================>.] - ETA: 1s - loss: 4.3433 - accuracy: 0.1441"
     ]
    },
    {
     "name": "stderr",
     "output_type": "stream",
     "text": [
      "W0822 10:15:29.828018 13936 callbacks.py:986] Can save best model only with val_acc available, skipping.\n"
     ]
    },
    {
     "name": "stdout",
     "output_type": "stream",
     "text": [
      "110/110 [==============================] - 136s 1s/step - loss: 4.3435 - accuracy: 0.1441 - val_loss: 4.8306 - val_accuracy: 0.0970\n",
      "Learning rate:  0.0001\n",
      "Epoch 66/100\n",
      "109/110 [============================>.] - ETA: 1s - loss: 4.3309 - accuracy: 0.1485"
     ]
    },
    {
     "name": "stderr",
     "output_type": "stream",
     "text": [
      "W0822 10:17:37.262328 13936 callbacks.py:986] Can save best model only with val_acc available, skipping.\n"
     ]
    },
    {
     "name": "stdout",
     "output_type": "stream",
     "text": [
      "110/110 [==============================] - 127s 1s/step - loss: 4.3300 - accuracy: 0.1485 - val_loss: 4.8390 - val_accuracy: 0.0920\n",
      "Learning rate:  0.0001\n",
      "Epoch 67/100\n",
      "109/110 [============================>.] - ETA: 1s - loss: 4.3199 - accuracy: 0.1490"
     ]
    },
    {
     "name": "stderr",
     "output_type": "stream",
     "text": [
      "W0822 10:19:42.450647 13936 callbacks.py:986] Can save best model only with val_acc available, skipping.\n"
     ]
    },
    {
     "name": "stdout",
     "output_type": "stream",
     "text": [
      "110/110 [==============================] - 125s 1s/step - loss: 4.3203 - accuracy: 0.1488 - val_loss: 4.7381 - val_accuracy: 0.1110\n",
      "Learning rate:  0.0001\n",
      "Epoch 68/100\n",
      "109/110 [============================>.] - ETA: 1s - loss: 4.3096 - accuracy: 0.1485"
     ]
    },
    {
     "name": "stderr",
     "output_type": "stream",
     "text": [
      "W0822 10:21:52.795231 13936 callbacks.py:986] Can save best model only with val_acc available, skipping.\n"
     ]
    },
    {
     "name": "stdout",
     "output_type": "stream",
     "text": [
      "110/110 [==============================] - 130s 1s/step - loss: 4.3109 - accuracy: 0.1482 - val_loss: 4.8859 - val_accuracy: 0.0920\n",
      "Learning rate:  0.0001\n",
      "Epoch 69/100\n",
      "109/110 [============================>.] - ETA: 1s - loss: 4.3052 - accuracy: 0.1469"
     ]
    },
    {
     "name": "stderr",
     "output_type": "stream",
     "text": [
      "W0822 10:24:06.920648 13936 callbacks.py:986] Can save best model only with val_acc available, skipping.\n"
     ]
    },
    {
     "name": "stdout",
     "output_type": "stream",
     "text": [
      "110/110 [==============================] - 134s 1s/step - loss: 4.3032 - accuracy: 0.1471 - val_loss: 4.7833 - val_accuracy: 0.1110\n",
      "Learning rate:  0.0001\n",
      "Epoch 70/100\n",
      "109/110 [============================>.] - ETA: 1s - loss: 4.2934 - accuracy: 0.1483"
     ]
    },
    {
     "name": "stderr",
     "output_type": "stream",
     "text": [
      "W0822 10:26:18.847965 13936 callbacks.py:986] Can save best model only with val_acc available, skipping.\n"
     ]
    },
    {
     "name": "stdout",
     "output_type": "stream",
     "text": [
      "110/110 [==============================] - 132s 1s/step - loss: 4.2943 - accuracy: 0.1482 - val_loss: 4.7332 - val_accuracy: 0.1030\n",
      "Learning rate:  0.0001\n",
      "Epoch 71/100\n",
      "109/110 [============================>.] - ETA: 1s - loss: 4.2816 - accuracy: 0.1526"
     ]
    },
    {
     "name": "stderr",
     "output_type": "stream",
     "text": [
      "W0822 10:28:35.783831 13936 callbacks.py:986] Can save best model only with val_acc available, skipping.\n"
     ]
    },
    {
     "name": "stdout",
     "output_type": "stream",
     "text": [
      "110/110 [==============================] - 137s 1s/step - loss: 4.2813 - accuracy: 0.1526 - val_loss: 4.8299 - val_accuracy: 0.0980\n",
      "Learning rate:  0.0001\n",
      "Epoch 72/100\n",
      "109/110 [============================>.] - ETA: 1s - loss: 4.2701 - accuracy: 0.1523"
     ]
    },
    {
     "name": "stderr",
     "output_type": "stream",
     "text": [
      "W0822 10:30:55.601079 13936 callbacks.py:986] Can save best model only with val_acc available, skipping.\n"
     ]
    },
    {
     "name": "stdout",
     "output_type": "stream",
     "text": [
      "110/110 [==============================] - 140s 1s/step - loss: 4.2720 - accuracy: 0.1520 - val_loss: 4.7488 - val_accuracy: 0.1040\n",
      "Learning rate:  0.0001\n",
      "Epoch 73/100\n",
      "109/110 [============================>.] - ETA: 1s - loss: 4.2601 - accuracy: 0.1537"
     ]
    },
    {
     "name": "stderr",
     "output_type": "stream",
     "text": [
      "W0822 10:33:13.472501 13936 callbacks.py:986] Can save best model only with val_acc available, skipping.\n"
     ]
    },
    {
     "name": "stdout",
     "output_type": "stream",
     "text": [
      "110/110 [==============================] - 138s 1s/step - loss: 4.2604 - accuracy: 0.1540 - val_loss: 4.7714 - val_accuracy: 0.0960\n",
      "Learning rate:  0.0001\n",
      "Epoch 74/100\n",
      "109/110 [============================>.] - ETA: 1s - loss: 4.2598 - accuracy: 0.1554"
     ]
    },
    {
     "name": "stderr",
     "output_type": "stream",
     "text": [
      "W0822 10:35:31.456616 13936 callbacks.py:986] Can save best model only with val_acc available, skipping.\n"
     ]
    },
    {
     "name": "stdout",
     "output_type": "stream",
     "text": [
      "110/110 [==============================] - 138s 1s/step - loss: 4.2595 - accuracy: 0.1555 - val_loss: 4.7933 - val_accuracy: 0.1060\n",
      "Learning rate:  0.0001\n",
      "Epoch 75/100\n",
      "109/110 [============================>.] - ETA: 1s - loss: 4.2420 - accuracy: 0.1570"
     ]
    },
    {
     "name": "stderr",
     "output_type": "stream",
     "text": [
      "W0822 10:37:49.413758 13936 callbacks.py:986] Can save best model only with val_acc available, skipping.\n"
     ]
    },
    {
     "name": "stdout",
     "output_type": "stream",
     "text": [
      "110/110 [==============================] - 138s 1s/step - loss: 4.2424 - accuracy: 0.1570 - val_loss: 4.8027 - val_accuracy: 0.0980\n",
      "Learning rate:  0.0001\n",
      "Epoch 76/100\n",
      "109/110 [============================>.] - ETA: 1s - loss: 4.2394 - accuracy: 0.1625"
     ]
    },
    {
     "name": "stderr",
     "output_type": "stream",
     "text": [
      "W0822 10:40:07.677395 13936 callbacks.py:986] Can save best model only with val_acc available, skipping.\n"
     ]
    },
    {
     "name": "stdout",
     "output_type": "stream",
     "text": [
      "110/110 [==============================] - 138s 1s/step - loss: 4.2410 - accuracy: 0.1624 - val_loss: 4.7252 - val_accuracy: 0.1120\n",
      "Learning rate:  0.0001\n",
      "Epoch 77/100\n",
      "109/110 [============================>.] - ETA: 1s - loss: 4.2250 - accuracy: 0.1593"
     ]
    },
    {
     "name": "stderr",
     "output_type": "stream",
     "text": [
      "W0822 10:42:26.425499 13936 callbacks.py:986] Can save best model only with val_acc available, skipping.\n"
     ]
    },
    {
     "name": "stdout",
     "output_type": "stream",
     "text": [
      "110/110 [==============================] - 139s 1s/step - loss: 4.2241 - accuracy: 0.1592 - val_loss: 4.8913 - val_accuracy: 0.0920\n",
      "Learning rate:  0.0001\n",
      "Epoch 78/100\n",
      "109/110 [============================>.] - ETA: 1s - loss: 4.2190 - accuracy: 0.1637"
     ]
    },
    {
     "name": "stderr",
     "output_type": "stream",
     "text": [
      "W0822 10:44:44.070519 13936 callbacks.py:986] Can save best model only with val_acc available, skipping.\n"
     ]
    },
    {
     "name": "stdout",
     "output_type": "stream",
     "text": [
      "110/110 [==============================] - 138s 1s/step - loss: 4.2196 - accuracy: 0.1634 - val_loss: 4.7049 - val_accuracy: 0.1180\n",
      "Learning rate:  0.0001\n",
      "Epoch 79/100\n",
      "109/110 [============================>.] - ETA: 1s - loss: 4.2111 - accuracy: 0.1597"
     ]
    },
    {
     "name": "stderr",
     "output_type": "stream",
     "text": [
      "W0822 10:46:58.412335 13936 callbacks.py:986] Can save best model only with val_acc available, skipping.\n"
     ]
    },
    {
     "name": "stdout",
     "output_type": "stream",
     "text": [
      "110/110 [==============================] - 134s 1s/step - loss: 4.2104 - accuracy: 0.1599 - val_loss: 4.7493 - val_accuracy: 0.1150\n",
      "Learning rate:  0.0001\n",
      "Epoch 80/100\n",
      "109/110 [============================>.] - ETA: 1s - loss: 4.2013 - accuracy: 0.1601"
     ]
    },
    {
     "name": "stderr",
     "output_type": "stream",
     "text": [
      "W0822 10:49:11.377861 13936 callbacks.py:986] Can save best model only with val_acc available, skipping.\n"
     ]
    },
    {
     "name": "stdout",
     "output_type": "stream",
     "text": [
      "110/110 [==============================] - 133s 1s/step - loss: 4.2006 - accuracy: 0.1603 - val_loss: 4.6761 - val_accuracy: 0.1140\n",
      "Learning rate:  0.0001\n",
      "Epoch 81/100\n",
      "109/110 [============================>.] - ETA: 1s - loss: 4.1834 - accuracy: 0.1631"
     ]
    },
    {
     "name": "stderr",
     "output_type": "stream",
     "text": [
      "W0822 10:51:18.959818 13936 callbacks.py:986] Can save best model only with val_acc available, skipping.\n"
     ]
    },
    {
     "name": "stdout",
     "output_type": "stream",
     "text": [
      "110/110 [==============================] - 128s 1s/step - loss: 4.1843 - accuracy: 0.1630 - val_loss: 4.7481 - val_accuracy: 0.1130\n",
      "Learning rate:  1e-05\n",
      "Epoch 82/100\n",
      "109/110 [============================>.] - ETA: 1s - loss: 4.1509 - accuracy: 0.1711"
     ]
    },
    {
     "name": "stderr",
     "output_type": "stream",
     "text": [
      "W0822 10:53:26.384131 13936 callbacks.py:986] Can save best model only with val_acc available, skipping.\n"
     ]
    },
    {
     "name": "stdout",
     "output_type": "stream",
     "text": [
      "110/110 [==============================] - 127s 1s/step - loss: 4.1493 - accuracy: 0.1718 - val_loss: 4.6443 - val_accuracy: 0.1210\n",
      "Learning rate:  1e-05\n",
      "Epoch 83/100\n",
      "109/110 [============================>.] - ETA: 1s - loss: 4.1293 - accuracy: 0.1742"
     ]
    },
    {
     "name": "stderr",
     "output_type": "stream",
     "text": [
      "W0822 10:55:40.142536 13936 callbacks.py:986] Can save best model only with val_acc available, skipping.\n"
     ]
    },
    {
     "name": "stdout",
     "output_type": "stream",
     "text": [
      "110/110 [==============================] - 134s 1s/step - loss: 4.1305 - accuracy: 0.1744 - val_loss: 4.6679 - val_accuracy: 0.1200\n",
      "Learning rate:  1e-05\n",
      "Epoch 84/100\n",
      "109/110 [============================>.] - ETA: 1s - loss: 4.1277 - accuracy: 0.1710"
     ]
    },
    {
     "name": "stderr",
     "output_type": "stream",
     "text": [
      "W0822 10:57:54.339771 13936 callbacks.py:986] Can save best model only with val_acc available, skipping.\n"
     ]
    },
    {
     "name": "stdout",
     "output_type": "stream",
     "text": [
      "110/110 [==============================] - 134s 1s/step - loss: 4.1263 - accuracy: 0.1712 - val_loss: 4.6674 - val_accuracy: 0.1190\n",
      "Learning rate:  1e-05\n",
      "Epoch 85/100\n",
      "109/110 [============================>.] - ETA: 1s - loss: 4.1266 - accuracy: 0.1715"
     ]
    },
    {
     "name": "stderr",
     "output_type": "stream",
     "text": [
      "W0822 11:00:10.688303 13936 callbacks.py:986] Can save best model only with val_acc available, skipping.\n"
     ]
    },
    {
     "name": "stdout",
     "output_type": "stream",
     "text": [
      "110/110 [==============================] - 136s 1s/step - loss: 4.1271 - accuracy: 0.1717 - val_loss: 4.6395 - val_accuracy: 0.1230\n",
      "Learning rate:  1e-05\n",
      "Epoch 86/100\n",
      "109/110 [============================>.] - ETA: 1s - loss: 4.1245 - accuracy: 0.1754"
     ]
    },
    {
     "name": "stderr",
     "output_type": "stream",
     "text": [
      "W0822 11:02:25.668435 13936 callbacks.py:986] Can save best model only with val_acc available, skipping.\n"
     ]
    },
    {
     "name": "stdout",
     "output_type": "stream",
     "text": [
      "110/110 [==============================] - 135s 1s/step - loss: 4.1235 - accuracy: 0.1759 - val_loss: 4.6467 - val_accuracy: 0.1200\n",
      "Learning rate:  1e-05\n",
      "Epoch 87/100\n",
      "109/110 [============================>.] - ETA: 1s - loss: 4.1225 - accuracy: 0.1781"
     ]
    },
    {
     "name": "stderr",
     "output_type": "stream",
     "text": [
      "W0822 11:04:41.952057 13936 callbacks.py:986] Can save best model only with val_acc available, skipping.\n"
     ]
    },
    {
     "name": "stdout",
     "output_type": "stream",
     "text": [
      "110/110 [==============================] - 136s 1s/step - loss: 4.1212 - accuracy: 0.1784 - val_loss: 4.6625 - val_accuracy: 0.1180\n",
      "Learning rate:  1e-05\n",
      "Epoch 88/100\n",
      "109/110 [============================>.] - ETA: 1s - loss: 4.1237 - accuracy: 0.1735"
     ]
    },
    {
     "name": "stderr",
     "output_type": "stream",
     "text": [
      "W0822 11:06:52.820230 13936 callbacks.py:986] Can save best model only with val_acc available, skipping.\n"
     ]
    },
    {
     "name": "stdout",
     "output_type": "stream",
     "text": [
      "110/110 [==============================] - 131s 1s/step - loss: 4.1242 - accuracy: 0.1732 - val_loss: 4.6730 - val_accuracy: 0.1160\n",
      "Learning rate:  1e-05\n",
      "Epoch 89/100\n",
      "109/110 [============================>.] - ETA: 1s - loss: 4.1241 - accuracy: 0.1779"
     ]
    },
    {
     "name": "stderr",
     "output_type": "stream",
     "text": [
      "W0822 11:09:06.628507 13936 callbacks.py:986] Can save best model only with val_acc available, skipping.\n"
     ]
    },
    {
     "name": "stdout",
     "output_type": "stream",
     "text": [
      "110/110 [==============================] - 134s 1s/step - loss: 4.1240 - accuracy: 0.1774 - val_loss: 4.6467 - val_accuracy: 0.1190\n",
      "Learning rate:  1e-05\n",
      "Epoch 90/100\n",
      "109/110 [============================>.] - ETA: 1s - loss: 4.1248 - accuracy: 0.1774"
     ]
    },
    {
     "name": "stderr",
     "output_type": "stream",
     "text": [
      "W0822 11:11:23.131586 13936 callbacks.py:986] Can save best model only with val_acc available, skipping.\n"
     ]
    },
    {
     "name": "stdout",
     "output_type": "stream",
     "text": [
      "110/110 [==============================] - 136s 1s/step - loss: 4.1245 - accuracy: 0.1776 - val_loss: 4.6504 - val_accuracy: 0.1190\n",
      "Learning rate:  1e-05\n",
      "Epoch 91/100\n",
      "109/110 [============================>.] - ETA: 1s - loss: 4.1140 - accuracy: 0.1782"
     ]
    },
    {
     "name": "stderr",
     "output_type": "stream",
     "text": [
      "W0822 11:13:38.104740 13936 callbacks.py:986] Can save best model only with val_acc available, skipping.\n"
     ]
    },
    {
     "name": "stdout",
     "output_type": "stream",
     "text": [
      "110/110 [==============================] - 135s 1s/step - loss: 4.1156 - accuracy: 0.1775 - val_loss: 4.6595 - val_accuracy: 0.1200\n",
      "Learning rate:  1e-05\n",
      "Epoch 92/100\n",
      "109/110 [============================>.] - ETA: 1s - loss: 4.1171 - accuracy: 0.1756"
     ]
    },
    {
     "name": "stderr",
     "output_type": "stream",
     "text": [
      "W0822 11:15:54.926968 13936 callbacks.py:986] Can save best model only with val_acc available, skipping.\n"
     ]
    },
    {
     "name": "stdout",
     "output_type": "stream",
     "text": [
      "110/110 [==============================] - 137s 1s/step - loss: 4.1173 - accuracy: 0.1750 - val_loss: 4.6500 - val_accuracy: 0.1230\n",
      "Learning rate:  1e-05\n",
      "Epoch 93/100\n",
      "109/110 [============================>.] - ETA: 1s - loss: 4.1120 - accuracy: 0.1740"
     ]
    },
    {
     "name": "stderr",
     "output_type": "stream",
     "text": [
      "W0822 11:18:11.726202 13936 callbacks.py:986] Can save best model only with val_acc available, skipping.\n"
     ]
    },
    {
     "name": "stdout",
     "output_type": "stream",
     "text": [
      "110/110 [==============================] - 137s 1s/step - loss: 4.1128 - accuracy: 0.1739 - val_loss: 4.6676 - val_accuracy: 0.1160\n",
      "Learning rate:  1e-05\n",
      "Epoch 94/100\n",
      "109/110 [============================>.] - ETA: 1s - loss: 4.1168 - accuracy: 0.1715"
     ]
    },
    {
     "name": "stderr",
     "output_type": "stream",
     "text": [
      "W0822 11:20:28.574357 13936 callbacks.py:986] Can save best model only with val_acc available, skipping.\n"
     ]
    },
    {
     "name": "stdout",
     "output_type": "stream",
     "text": [
      "110/110 [==============================] - 137s 1s/step - loss: 4.1165 - accuracy: 0.1714 - val_loss: 4.6500 - val_accuracy: 0.1190\n",
      "Learning rate:  1e-05\n",
      "Epoch 95/100\n",
      "109/110 [============================>.] - ETA: 1s - loss: 4.1206 - accuracy: 0.1711"
     ]
    },
    {
     "name": "stderr",
     "output_type": "stream",
     "text": [
      "W0822 11:22:44.959773 13936 callbacks.py:986] Can save best model only with val_acc available, skipping.\n"
     ]
    },
    {
     "name": "stdout",
     "output_type": "stream",
     "text": [
      "110/110 [==============================] - 136s 1s/step - loss: 4.1193 - accuracy: 0.1714 - val_loss: 4.6568 - val_accuracy: 0.1170\n",
      "Learning rate:  1e-05\n",
      "Epoch 96/100\n",
      "109/110 [============================>.] - ETA: 1s - loss: 4.1091 - accuracy: 0.1767"
     ]
    },
    {
     "name": "stderr",
     "output_type": "stream",
     "text": [
      "W0822 11:25:01.690243 13936 callbacks.py:986] Can save best model only with val_acc available, skipping.\n"
     ]
    },
    {
     "name": "stdout",
     "output_type": "stream",
     "text": [
      "110/110 [==============================] - 137s 1s/step - loss: 4.1100 - accuracy: 0.1764 - val_loss: 4.6416 - val_accuracy: 0.1220\n",
      "Learning rate:  1e-05\n",
      "Epoch 97/100\n",
      "109/110 [============================>.] - ETA: 1s - loss: 4.1158 - accuracy: 0.1763"
     ]
    },
    {
     "name": "stderr",
     "output_type": "stream",
     "text": [
      "W0822 11:27:13.397704 13936 callbacks.py:986] Can save best model only with val_acc available, skipping.\n"
     ]
    },
    {
     "name": "stdout",
     "output_type": "stream",
     "text": [
      "110/110 [==============================] - 132s 1s/step - loss: 4.1170 - accuracy: 0.1758 - val_loss: 4.6602 - val_accuracy: 0.1240\n",
      "Learning rate:  1e-05\n",
      "Epoch 98/100\n",
      "109/110 [============================>.] - ETA: 1s - loss: 4.1120 - accuracy: 0.1758"
     ]
    },
    {
     "name": "stderr",
     "output_type": "stream",
     "text": [
      "W0822 11:29:32.024146 13936 callbacks.py:986] Can save best model only with val_acc available, skipping.\n"
     ]
    },
    {
     "name": "stdout",
     "output_type": "stream",
     "text": [
      "110/110 [==============================] - 139s 1s/step - loss: 4.1102 - accuracy: 0.1759 - val_loss: 4.6601 - val_accuracy: 0.1180\n",
      "Learning rate:  1e-05\n",
      "Epoch 99/100\n",
      "109/110 [============================>.] - ETA: 1s - loss: 4.1102 - accuracy: 0.1767"
     ]
    },
    {
     "name": "stderr",
     "output_type": "stream",
     "text": [
      "W0822 11:31:52.329052 13936 callbacks.py:986] Can save best model only with val_acc available, skipping.\n"
     ]
    },
    {
     "name": "stdout",
     "output_type": "stream",
     "text": [
      "110/110 [==============================] - 140s 1s/step - loss: 4.1105 - accuracy: 0.1767 - val_loss: 4.6546 - val_accuracy: 0.1170\n",
      "Learning rate:  1e-05\n",
      "Epoch 100/100\n",
      "109/110 [============================>.] - ETA: 1s - loss: 4.1038 - accuracy: 0.1800"
     ]
    },
    {
     "name": "stderr",
     "output_type": "stream",
     "text": [
      "W0822 11:34:10.543549 13936 callbacks.py:986] Can save best model only with val_acc available, skipping.\n"
     ]
    },
    {
     "name": "stdout",
     "output_type": "stream",
     "text": [
      "\b\b\b\b\b\b\b\b\b\b\b\b\b\b\b\b\b\b\b\b\b\b\b\b\b\b\b\b\b\b\b\b\b\b\b\b\b\b\b\b\b\b\b\b\b\b\b\b\b\b\b\b\b\b\b\b\b\b\b\b\b\b\b\b\b\b\b\b\b\b\b\b\b\b\b\b\b\b\b\b\b\b\b\b\r",
      "110/110 [==============================] - 138s 1s/step - loss: 4.1044 - accuracy: 0.1799 - val_loss: 4.6541 - val_accuracy: 0.1230\n"
     ]
    },
    {
     "data": {
      "text/plain": [
       "<tensorflow.python.keras.callbacks.History at 0x1eb72ef1b38>"
      ]
     },
     "execution_count": 14,
     "metadata": {},
     "output_type": "execute_result"
    }
   ],
   "source": [
    "# Fit the model using data augmentation on the batches generated by datagen.flow().\n",
    "model.fit_generator(datagen.flow(x_train, y_train, batch_size=128),\n",
    "                    validation_data=(x_test, y_test),\n",
    "                    epochs=100, verbose=1,\n",
    "                    callbacks=callbacks)"
   ]
  },
  {
   "cell_type": "code",
   "execution_count": 17,
   "metadata": {
    "code_folding": []
   },
   "outputs": [
    {
     "name": "stdout",
     "output_type": "stream",
     "text": [
      "Train on 14004 samples, validate on 1000 samples\n",
      "Learning rate:  0.0001\n",
      "Epoch 1/10\n",
      "13952/14004 [============================>.] - ETA: 0s - loss: 0.4678 - accuracy: 0.9710"
     ]
    },
    {
     "name": "stderr",
     "output_type": "stream",
     "text": [
      "W0822 07:40:08.560789 11200 callbacks.py:986] Can save best model only with val_acc available, skipping.\n"
     ]
    },
    {
     "name": "stdout",
     "output_type": "stream",
     "text": [
      "14004/14004 [==============================] - 105s 7ms/sample - loss: 0.4678 - accuracy: 0.9710 - val_loss: 2.7260 - val_accuracy: 0.5490\n",
      "Learning rate:  0.0001\n",
      "Epoch 2/10\n",
      "13952/14004 [============================>.] - ETA: 0s - loss: 0.4378 - accuracy: 0.9815"
     ]
    },
    {
     "name": "stderr",
     "output_type": "stream",
     "text": [
      "W0822 07:42:29.861198 11200 callbacks.py:986] Can save best model only with val_acc available, skipping.\n"
     ]
    },
    {
     "name": "stdout",
     "output_type": "stream",
     "text": [
      "14004/14004 [==============================] - 141s 10ms/sample - loss: 0.4378 - accuracy: 0.9816 - val_loss: 2.7551 - val_accuracy: 0.5540\n",
      "Learning rate:  0.0001\n",
      "Epoch 3/10\n",
      "13952/14004 [============================>.] - ETA: 0s - loss: 0.4208 - accuracy: 0.9867"
     ]
    },
    {
     "name": "stderr",
     "output_type": "stream",
     "text": [
      "W0822 07:45:33.709357 11200 callbacks.py:986] Can save best model only with val_acc available, skipping.\n"
     ]
    },
    {
     "name": "stdout",
     "output_type": "stream",
     "text": [
      "14004/14004 [==============================] - 184s 13ms/sample - loss: 0.4208 - accuracy: 0.9868 - val_loss: 2.7715 - val_accuracy: 0.5500\n",
      "Learning rate:  0.0001\n",
      "Epoch 4/10\n",
      "13952/14004 [============================>.] - ETA: 0s - loss: 0.4085 - accuracy: 0.9890"
     ]
    },
    {
     "name": "stderr",
     "output_type": "stream",
     "text": [
      "W0822 07:48:43.792899 11200 callbacks.py:986] Can save best model only with val_acc available, skipping.\n"
     ]
    },
    {
     "name": "stdout",
     "output_type": "stream",
     "text": [
      "14004/14004 [==============================] - 190s 14ms/sample - loss: 0.4086 - accuracy: 0.9889 - val_loss: 2.7917 - val_accuracy: 0.5520\n",
      "Learning rate:  0.0001\n",
      "Epoch 5/10\n",
      "  512/14004 [>.............................] - ETA: 2:46 - loss: 0.3847 - accuracy: 0.9902"
     ]
    },
    {
     "ename": "KeyboardInterrupt",
     "evalue": "",
     "output_type": "error",
     "traceback": [
      "\u001b[1;31m---------------------------------------------------------------------------\u001b[0m",
      "\u001b[1;31mKeyboardInterrupt\u001b[0m                         Traceback (most recent call last)",
      "\u001b[1;32m<ipython-input-17-20979c1ec1a9>\u001b[0m in \u001b[0;36m<module>\u001b[1;34m\u001b[0m\n\u001b[0;32m      3\u001b[0m                     \u001b[0mvalidation_data\u001b[0m\u001b[1;33m=\u001b[0m\u001b[1;33m(\u001b[0m\u001b[0mx_test\u001b[0m\u001b[1;33m,\u001b[0m \u001b[0my_test\u001b[0m\u001b[1;33m)\u001b[0m\u001b[1;33m,\u001b[0m\u001b[1;33m\u001b[0m\u001b[1;33m\u001b[0m\u001b[0m\n\u001b[0;32m      4\u001b[0m                     \u001b[0mepochs\u001b[0m\u001b[1;33m=\u001b[0m\u001b[0mepochs\u001b[0m\u001b[1;33m,\u001b[0m \u001b[0mverbose\u001b[0m\u001b[1;33m=\u001b[0m\u001b[1;36m1\u001b[0m\u001b[1;33m,\u001b[0m\u001b[1;33m\u001b[0m\u001b[1;33m\u001b[0m\u001b[0m\n\u001b[1;32m----> 5\u001b[1;33m                     callbacks=callbacks)\n\u001b[0m",
      "\u001b[1;32m~\\Anaconda3\\envs\\tf-2.0\\lib\\site-packages\\tensorflow\\python\\keras\\engine\\training.py\u001b[0m in \u001b[0;36mfit\u001b[1;34m(self, x, y, batch_size, epochs, verbose, callbacks, validation_split, validation_data, shuffle, class_weight, sample_weight, initial_epoch, steps_per_epoch, validation_steps, validation_freq, max_queue_size, workers, use_multiprocessing, **kwargs)\u001b[0m\n\u001b[0;32m    641\u001b[0m         \u001b[0mmax_queue_size\u001b[0m\u001b[1;33m=\u001b[0m\u001b[0mmax_queue_size\u001b[0m\u001b[1;33m,\u001b[0m\u001b[1;33m\u001b[0m\u001b[1;33m\u001b[0m\u001b[0m\n\u001b[0;32m    642\u001b[0m         \u001b[0mworkers\u001b[0m\u001b[1;33m=\u001b[0m\u001b[0mworkers\u001b[0m\u001b[1;33m,\u001b[0m\u001b[1;33m\u001b[0m\u001b[1;33m\u001b[0m\u001b[0m\n\u001b[1;32m--> 643\u001b[1;33m         use_multiprocessing=use_multiprocessing)\n\u001b[0m\u001b[0;32m    644\u001b[0m \u001b[1;33m\u001b[0m\u001b[0m\n\u001b[0;32m    645\u001b[0m   def evaluate(self,\n",
      "\u001b[1;32m~\\Anaconda3\\envs\\tf-2.0\\lib\\site-packages\\tensorflow\\python\\keras\\engine\\training_arrays.py\u001b[0m in \u001b[0;36mfit\u001b[1;34m(self, model, x, y, batch_size, epochs, verbose, callbacks, validation_split, validation_data, shuffle, class_weight, sample_weight, initial_epoch, steps_per_epoch, validation_steps, validation_freq, **kwargs)\u001b[0m\n\u001b[0;32m    662\u001b[0m         \u001b[0mvalidation_steps\u001b[0m\u001b[1;33m=\u001b[0m\u001b[0mvalidation_steps\u001b[0m\u001b[1;33m,\u001b[0m\u001b[1;33m\u001b[0m\u001b[1;33m\u001b[0m\u001b[0m\n\u001b[0;32m    663\u001b[0m         \u001b[0mvalidation_freq\u001b[0m\u001b[1;33m=\u001b[0m\u001b[0mvalidation_freq\u001b[0m\u001b[1;33m,\u001b[0m\u001b[1;33m\u001b[0m\u001b[1;33m\u001b[0m\u001b[0m\n\u001b[1;32m--> 664\u001b[1;33m         steps_name='steps_per_epoch')\n\u001b[0m\u001b[0;32m    665\u001b[0m \u001b[1;33m\u001b[0m\u001b[0m\n\u001b[0;32m    666\u001b[0m   def evaluate(self,\n",
      "\u001b[1;32m~\\Anaconda3\\envs\\tf-2.0\\lib\\site-packages\\tensorflow\\python\\keras\\engine\\training_arrays.py\u001b[0m in \u001b[0;36mmodel_iteration\u001b[1;34m(model, inputs, targets, sample_weights, batch_size, epochs, verbose, callbacks, val_inputs, val_targets, val_sample_weights, shuffle, initial_epoch, steps_per_epoch, validation_steps, validation_freq, mode, validation_in_fit, prepared_feed_values_from_dataset, steps_name, **kwargs)\u001b[0m\n\u001b[0;32m    381\u001b[0m \u001b[1;33m\u001b[0m\u001b[0m\n\u001b[0;32m    382\u001b[0m         \u001b[1;31m# Get outputs.\u001b[0m\u001b[1;33m\u001b[0m\u001b[1;33m\u001b[0m\u001b[1;33m\u001b[0m\u001b[0m\n\u001b[1;32m--> 383\u001b[1;33m         \u001b[0mbatch_outs\u001b[0m \u001b[1;33m=\u001b[0m \u001b[0mf\u001b[0m\u001b[1;33m(\u001b[0m\u001b[0mins_batch\u001b[0m\u001b[1;33m)\u001b[0m\u001b[1;33m\u001b[0m\u001b[1;33m\u001b[0m\u001b[0m\n\u001b[0m\u001b[0;32m    384\u001b[0m         \u001b[1;32mif\u001b[0m \u001b[1;32mnot\u001b[0m \u001b[0misinstance\u001b[0m\u001b[1;33m(\u001b[0m\u001b[0mbatch_outs\u001b[0m\u001b[1;33m,\u001b[0m \u001b[0mlist\u001b[0m\u001b[1;33m)\u001b[0m\u001b[1;33m:\u001b[0m\u001b[1;33m\u001b[0m\u001b[1;33m\u001b[0m\u001b[0m\n\u001b[0;32m    385\u001b[0m           \u001b[0mbatch_outs\u001b[0m \u001b[1;33m=\u001b[0m \u001b[1;33m[\u001b[0m\u001b[0mbatch_outs\u001b[0m\u001b[1;33m]\u001b[0m\u001b[1;33m\u001b[0m\u001b[1;33m\u001b[0m\u001b[0m\n",
      "\u001b[1;32m~\\Anaconda3\\envs\\tf-2.0\\lib\\site-packages\\tensorflow\\python\\keras\\backend.py\u001b[0m in \u001b[0;36m__call__\u001b[1;34m(self, inputs)\u001b[0m\n\u001b[0;32m   3508\u001b[0m         \u001b[0mvalue\u001b[0m \u001b[1;33m=\u001b[0m \u001b[0mmath_ops\u001b[0m\u001b[1;33m.\u001b[0m\u001b[0mcast\u001b[0m\u001b[1;33m(\u001b[0m\u001b[0mvalue\u001b[0m\u001b[1;33m,\u001b[0m \u001b[0mtensor\u001b[0m\u001b[1;33m.\u001b[0m\u001b[0mdtype\u001b[0m\u001b[1;33m)\u001b[0m\u001b[1;33m\u001b[0m\u001b[1;33m\u001b[0m\u001b[0m\n\u001b[0;32m   3509\u001b[0m       \u001b[0mconverted_inputs\u001b[0m\u001b[1;33m.\u001b[0m\u001b[0mappend\u001b[0m\u001b[1;33m(\u001b[0m\u001b[0mvalue\u001b[0m\u001b[1;33m)\u001b[0m\u001b[1;33m\u001b[0m\u001b[1;33m\u001b[0m\u001b[0m\n\u001b[1;32m-> 3510\u001b[1;33m     \u001b[0moutputs\u001b[0m \u001b[1;33m=\u001b[0m \u001b[0mself\u001b[0m\u001b[1;33m.\u001b[0m\u001b[0m_graph_fn\u001b[0m\u001b[1;33m(\u001b[0m\u001b[1;33m*\u001b[0m\u001b[0mconverted_inputs\u001b[0m\u001b[1;33m)\u001b[0m\u001b[1;33m\u001b[0m\u001b[1;33m\u001b[0m\u001b[0m\n\u001b[0m\u001b[0;32m   3511\u001b[0m \u001b[1;33m\u001b[0m\u001b[0m\n\u001b[0;32m   3512\u001b[0m     \u001b[1;31m# EagerTensor.numpy() will often make a copy to ensure memory safety.\u001b[0m\u001b[1;33m\u001b[0m\u001b[1;33m\u001b[0m\u001b[1;33m\u001b[0m\u001b[0m\n",
      "\u001b[1;32m~\\Anaconda3\\envs\\tf-2.0\\lib\\site-packages\\tensorflow\\python\\eager\\function.py\u001b[0m in \u001b[0;36m__call__\u001b[1;34m(self, *args, **kwargs)\u001b[0m\n\u001b[0;32m    570\u001b[0m       raise TypeError(\"Keyword arguments {} unknown. Expected {}.\".format(\n\u001b[0;32m    571\u001b[0m           list(kwargs.keys()), list(self._arg_keywords)))\n\u001b[1;32m--> 572\u001b[1;33m     \u001b[1;32mreturn\u001b[0m \u001b[0mself\u001b[0m\u001b[1;33m.\u001b[0m\u001b[0m_call_flat\u001b[0m\u001b[1;33m(\u001b[0m\u001b[0margs\u001b[0m\u001b[1;33m)\u001b[0m\u001b[1;33m\u001b[0m\u001b[1;33m\u001b[0m\u001b[0m\n\u001b[0m\u001b[0;32m    573\u001b[0m \u001b[1;33m\u001b[0m\u001b[0m\n\u001b[0;32m    574\u001b[0m   \u001b[1;32mdef\u001b[0m \u001b[0m_filtered_call\u001b[0m\u001b[1;33m(\u001b[0m\u001b[0mself\u001b[0m\u001b[1;33m,\u001b[0m \u001b[0margs\u001b[0m\u001b[1;33m,\u001b[0m \u001b[0mkwargs\u001b[0m\u001b[1;33m)\u001b[0m\u001b[1;33m:\u001b[0m\u001b[1;33m\u001b[0m\u001b[1;33m\u001b[0m\u001b[0m\n",
      "\u001b[1;32m~\\Anaconda3\\envs\\tf-2.0\\lib\\site-packages\\tensorflow\\python\\eager\\function.py\u001b[0m in \u001b[0;36m_call_flat\u001b[1;34m(self, args)\u001b[0m\n\u001b[0;32m    669\u001b[0m     \u001b[1;31m# Only need to override the gradient in graph mode and when we have outputs.\u001b[0m\u001b[1;33m\u001b[0m\u001b[1;33m\u001b[0m\u001b[1;33m\u001b[0m\u001b[0m\n\u001b[0;32m    670\u001b[0m     \u001b[1;32mif\u001b[0m \u001b[0mcontext\u001b[0m\u001b[1;33m.\u001b[0m\u001b[0mexecuting_eagerly\u001b[0m\u001b[1;33m(\u001b[0m\u001b[1;33m)\u001b[0m \u001b[1;32mor\u001b[0m \u001b[1;32mnot\u001b[0m \u001b[0mself\u001b[0m\u001b[1;33m.\u001b[0m\u001b[0moutputs\u001b[0m\u001b[1;33m:\u001b[0m\u001b[1;33m\u001b[0m\u001b[1;33m\u001b[0m\u001b[0m\n\u001b[1;32m--> 671\u001b[1;33m       \u001b[0moutputs\u001b[0m \u001b[1;33m=\u001b[0m \u001b[0mself\u001b[0m\u001b[1;33m.\u001b[0m\u001b[0m_inference_function\u001b[0m\u001b[1;33m.\u001b[0m\u001b[0mcall\u001b[0m\u001b[1;33m(\u001b[0m\u001b[0mctx\u001b[0m\u001b[1;33m,\u001b[0m \u001b[0margs\u001b[0m\u001b[1;33m)\u001b[0m\u001b[1;33m\u001b[0m\u001b[1;33m\u001b[0m\u001b[0m\n\u001b[0m\u001b[0;32m    672\u001b[0m     \u001b[1;32melse\u001b[0m\u001b[1;33m:\u001b[0m\u001b[1;33m\u001b[0m\u001b[1;33m\u001b[0m\u001b[0m\n\u001b[0;32m    673\u001b[0m       \u001b[0mself\u001b[0m\u001b[1;33m.\u001b[0m\u001b[0m_register_gradient\u001b[0m\u001b[1;33m(\u001b[0m\u001b[1;33m)\u001b[0m\u001b[1;33m\u001b[0m\u001b[1;33m\u001b[0m\u001b[0m\n",
      "\u001b[1;32m~\\Anaconda3\\envs\\tf-2.0\\lib\\site-packages\\tensorflow\\python\\eager\\function.py\u001b[0m in \u001b[0;36mcall\u001b[1;34m(self, ctx, args)\u001b[0m\n\u001b[0;32m    443\u001b[0m             attrs=(\"executor_type\", executor_type,\n\u001b[0;32m    444\u001b[0m                    \"config_proto\", config),\n\u001b[1;32m--> 445\u001b[1;33m             ctx=ctx)\n\u001b[0m\u001b[0;32m    446\u001b[0m       \u001b[1;31m# Replace empty list with None\u001b[0m\u001b[1;33m\u001b[0m\u001b[1;33m\u001b[0m\u001b[1;33m\u001b[0m\u001b[0m\n\u001b[0;32m    447\u001b[0m       \u001b[0moutputs\u001b[0m \u001b[1;33m=\u001b[0m \u001b[0moutputs\u001b[0m \u001b[1;32mor\u001b[0m \u001b[1;32mNone\u001b[0m\u001b[1;33m\u001b[0m\u001b[1;33m\u001b[0m\u001b[0m\n",
      "\u001b[1;32m~\\Anaconda3\\envs\\tf-2.0\\lib\\site-packages\\tensorflow\\python\\eager\\execute.py\u001b[0m in \u001b[0;36mquick_execute\u001b[1;34m(op_name, num_outputs, inputs, attrs, ctx, name)\u001b[0m\n\u001b[0;32m     59\u001b[0m     tensors = pywrap_tensorflow.TFE_Py_Execute(ctx._handle, device_name,\n\u001b[0;32m     60\u001b[0m                                                \u001b[0mop_name\u001b[0m\u001b[1;33m,\u001b[0m \u001b[0minputs\u001b[0m\u001b[1;33m,\u001b[0m \u001b[0mattrs\u001b[0m\u001b[1;33m,\u001b[0m\u001b[1;33m\u001b[0m\u001b[1;33m\u001b[0m\u001b[0m\n\u001b[1;32m---> 61\u001b[1;33m                                                num_outputs)\n\u001b[0m\u001b[0;32m     62\u001b[0m   \u001b[1;32mexcept\u001b[0m \u001b[0mcore\u001b[0m\u001b[1;33m.\u001b[0m\u001b[0m_NotOkStatusException\u001b[0m \u001b[1;32mas\u001b[0m \u001b[0me\u001b[0m\u001b[1;33m:\u001b[0m\u001b[1;33m\u001b[0m\u001b[1;33m\u001b[0m\u001b[0m\n\u001b[0;32m     63\u001b[0m     \u001b[1;32mif\u001b[0m \u001b[0mname\u001b[0m \u001b[1;32mis\u001b[0m \u001b[1;32mnot\u001b[0m \u001b[1;32mNone\u001b[0m\u001b[1;33m:\u001b[0m\u001b[1;33m\u001b[0m\u001b[1;33m\u001b[0m\u001b[0m\n",
      "\u001b[1;31mKeyboardInterrupt\u001b[0m: "
     ]
    }
   ],
   "source": [
    "# Fit the model without data augmentation\n",
    "model.fit(x_train, y_train, batch_size=128,\n",
    "                    validation_data=(x_test, y_test),\n",
    "                    epochs=epochs, verbose=1,\n",
    "                    callbacks=callbacks)"
   ]
  },
  {
   "cell_type": "code",
   "execution_count": 19,
   "metadata": {},
   "outputs": [
    {
     "name": "stdout",
     "output_type": "stream",
     "text": [
      "1000/1000 [==============================] - 2s 2ms/sample - loss: 2.7842 - accuracy: 0.5510\n",
      "Test loss: 2.784232433319092\n",
      "Test accuracy: 0.551\n"
     ]
    }
   ],
   "source": [
    "# Evaluate  our trained model.\n",
    "scores = model.evaluate(x_test, y_test, verbose=1)\n",
    "print('Test loss:', scores[0])\n",
    "print('Test accuracy:', scores[1])"
   ]
  },
  {
   "cell_type": "markdown",
   "metadata": {},
   "source": [
    "# Saving Models, Loading Models & Making Predictions"
   ]
  },
  {
   "cell_type": "code",
   "execution_count": 18,
   "metadata": {},
   "outputs": [],
   "source": [
    "# saving weights\n",
    "model.save_weights(r\"D:\\ML\\Weights\\ResNet V2\\drawing250_28x28\\drawings250_weights_with_increased_dataset.h5\")\n",
    "\n",
    "# saving model\n",
    "model.save(r\"D:\\ML\\Weights\\ResNet V2\\drawing250_28x28\\drawings250_model_final.h5\")"
   ]
  },
  {
   "cell_type": "code",
   "execution_count": null,
   "metadata": {},
   "outputs": [],
   "source": [
    "# loading model\n",
    "model = tf.keras.models.load_model(r\"D:\\ML\\Weights\\ResNet V2\\drawings250_model_final.h5\")\n",
    "model.summary()\n",
    "\n",
    "# loading weights\n",
    "model.load_weights(r\"D:\\ML\\Weights\\ResNet V2\\drawings250_weights_with_increased_dataset_99_55_.h5\")"
   ]
  },
  {
   "cell_type": "code",
   "execution_count": 36,
   "metadata": {},
   "outputs": [
    {
     "name": "stdout",
     "output_type": "stream",
     "text": [
      "Enter starting index: 5\n",
      "Enter ending index (won't be included): 10\n",
      "[117 145 142 138 184]\n",
      "[168 145 142 138 157 ]"
     ]
    }
   ],
   "source": [
    "# making predictions on given indices in test set\n",
    "start = int(input(\"Enter starting index: \"))\n",
    "end = int(input(\"Enter ending index (won't be included): \"))\n",
    "\n",
    "# getting predicted class integers\n",
    "indices = tf.argmax(input=model.predict(x_test[start:end]),axis=1)\n",
    "print(indices.numpy())\n",
    "\n",
    "#printing actual class integers\n",
    "print(\"[\", end=\"\")\n",
    "for vector in y_test[start:end]:\n",
    "    print(np.argmax(vector), end=\" \")\n",
    "print(\"]\", end=\"\")"
   ]
  },
  {
   "cell_type": "code",
   "execution_count": null,
   "metadata": {},
   "outputs": [],
   "source": []
  }
 ],
 "metadata": {
  "hide_input": false,
  "kernelspec": {
   "display_name": "tf-2.0",
   "language": "python",
   "name": "tf-2.0"
  },
  "language_info": {
   "codemirror_mode": {
    "name": "ipython",
    "version": 3
   },
   "file_extension": ".py",
   "mimetype": "text/x-python",
   "name": "python",
   "nbconvert_exporter": "python",
   "pygments_lexer": "ipython3",
   "version": "3.7.3"
  },
  "toc": {
   "base_numbering": 1,
   "nav_menu": {},
   "number_sections": true,
   "sideBar": true,
   "skip_h1_title": false,
   "title_cell": "Table of Contents",
   "title_sidebar": "Contents",
   "toc_cell": false,
   "toc_position": {},
   "toc_section_display": true,
   "toc_window_display": false
  },
  "varInspector": {
   "cols": {
    "lenName": 16,
    "lenType": 16,
    "lenVar": 40
   },
   "kernels_config": {
    "python": {
     "delete_cmd_postfix": "",
     "delete_cmd_prefix": "del ",
     "library": "var_list.py",
     "varRefreshCmd": "print(var_dic_list())"
    },
    "r": {
     "delete_cmd_postfix": ") ",
     "delete_cmd_prefix": "rm(",
     "library": "var_list.r",
     "varRefreshCmd": "cat(var_dic_list()) "
    }
   },
   "types_to_exclude": [
    "module",
    "function",
    "builtin_function_or_method",
    "instance",
    "_Feature"
   ],
   "window_display": false
  }
 },
 "nbformat": 4,
 "nbformat_minor": 2
}
